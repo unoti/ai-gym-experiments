{
 "cells": [
  {
   "cell_type": "markdown",
   "metadata": {},
   "source": [
    "# Priority Replay"
   ]
  },
  {
   "cell_type": "markdown",
   "metadata": {},
   "source": [
    "[Prioritized Experience Replay](https://arxiv.org/pdf/1511.05952.pdf) Tom Schaul, John Quan, Ioannis Antonoglou and David Silver\n"
   ]
  },
  {
   "cell_type": "code",
   "execution_count": 5,
   "metadata": {
    "collapsed": true
   },
   "outputs": [],
   "source": [
    "import numpy as np"
   ]
  },
  {
   "cell_type": "markdown",
   "metadata": {},
   "source": [
    "## ProbabilityBag\n",
    "\n",
    "We need to prioritize memory replay with the following requirements:\n",
    " * Memories are stored with a relative priority\n",
    " * There is an upper limit to the priorities stored in memory, and things of lower priority fall off the buttom when the memory is full\n",
    " * We can sample the memories, and the probability of any given item being selected is proportional to its priority\n",
    " * Things with lower priority still have a chance of being selected\n",
    " * Memories will get pulled out of the memory pile, then put back in based on their new updated priorities\n"
   ]
  },
  {
   "cell_type": "markdown",
   "metadata": {},
   "source": [
    "The interface will be something like this:"
   ]
  },
  {
   "cell_type": "code",
   "execution_count": null,
   "metadata": {
    "collapsed": true
   },
   "outputs": [],
   "source": [
    "class ProbabilityBag:\n",
    "    def __init__(self, max_size):\n",
    "        pass\n",
    "    \n",
    "    def pop_batch(self, n):\n",
    "        \"\"\"Remove a randomly selected batch of n items from the bag.  The probability\n",
    "        of an item being selected is proportional to its priority.\n",
    "        \"\"\"\n",
    "        \n",
    "    def push_batch(self, items):\n",
    "        \"\"\"Insert a group of items.  The priority of each item is the first member of the tuple.\n",
    "        Example:\n",
    "            item = (priority, state, action, reward)\n",
    "            items = [item]\n",
    "            probability_bag.push_batch(items)\n",
    "        \"\"\""
   ]
  },
  {
   "cell_type": "markdown",
   "metadata": {},
   "source": [
    "## Sampling with probability\n",
    "Numpy has a function for selecting items with a given probability:"
   ]
  },
  {
   "cell_type": "code",
   "execution_count": 3,
   "metadata": {
    "collapsed": true
   },
   "outputs": [],
   "source": [
    "a = [1,2,3,4,5,6,7,8]\n",
    "weights = [3, 3, 3, 2, 2, 1, 1, 1]\n",
    "sum_w = sum(weights)\n",
    "p_a = [w / sum_w for w in weights]"
   ]
  },
  {
   "cell_type": "code",
   "execution_count": 4,
   "metadata": {
    "collapsed": false
   },
   "outputs": [
    {
     "data": {
      "text/plain": [
       "(16, [0.1875, 0.1875, 0.1875, 0.125, 0.125, 0.0625, 0.0625, 0.0625])"
      ]
     },
     "execution_count": 4,
     "metadata": {},
     "output_type": "execute_result"
    }
   ],
   "source": [
    "sum_w, p_a"
   ]
  },
  {
   "cell_type": "code",
   "execution_count": 10,
   "metadata": {
    "collapsed": false
   },
   "outputs": [
    {
     "data": {
      "text/plain": [
       "array([5, 2, 5])"
      ]
     },
     "execution_count": 10,
     "metadata": {},
     "output_type": "execute_result"
    }
   ],
   "source": [
    "np.random.choice(a, 3, p = p_a)"
   ]
  },
  {
   "cell_type": "markdown",
   "metadata": {},
   "source": [
    "Notice that we got 5 twice.  This is what the *replacement* value controls; set it to false to keep the item from going back into the choice pool once selected."
   ]
  },
  {
   "cell_type": "code",
   "execution_count": 15,
   "metadata": {
    "collapsed": false
   },
   "outputs": [
    {
     "data": {
      "text/plain": [
       "[array([1, 2, 8]),\n",
       " array([2, 3, 4]),\n",
       " array([4, 2, 5]),\n",
       " array([4, 1, 6]),\n",
       " array([2, 1, 4])]"
      ]
     },
     "execution_count": 15,
     "metadata": {},
     "output_type": "execute_result"
    }
   ],
   "source": [
    "[np.random.choice(a, 3, p=p_a, replace=False) for _ in range(5)]"
   ]
  },
  {
   "cell_type": "markdown",
   "metadata": {},
   "source": [
    "Ok, we never got duplicates."
   ]
  },
  {
   "cell_type": "markdown",
   "metadata": {},
   "source": [
    "## Accessing the priority"
   ]
  },
  {
   "cell_type": "code",
   "execution_count": 16,
   "metadata": {
    "collapsed": true
   },
   "outputs": [],
   "source": [
    "items = np.array([[1,2,3],[4,5,6],[7,8,9]])"
   ]
  },
  {
   "cell_type": "code",
   "execution_count": 20,
   "metadata": {
    "collapsed": false
   },
   "outputs": [
    {
     "data": {
      "text/plain": [
       "array([1, 4, 7])"
      ]
     },
     "execution_count": 20,
     "metadata": {},
     "output_type": "execute_result"
    }
   ],
   "source": [
    "items[:,0]"
   ]
  },
  {
   "cell_type": "code",
   "execution_count": null,
   "metadata": {
    "collapsed": true
   },
   "outputs": [],
   "source": []
  }
 ],
 "metadata": {
  "kernelspec": {
   "display_name": "Python [conda root]",
   "language": "python",
   "name": "conda-root-py"
  },
  "language_info": {
   "codemirror_mode": {
    "name": "ipython",
    "version": 3
   },
   "file_extension": ".py",
   "mimetype": "text/x-python",
   "name": "python",
   "nbconvert_exporter": "python",
   "pygments_lexer": "ipython3",
   "version": "3.5.6"
  }
 },
 "nbformat": 4,
 "nbformat_minor": 1
}
