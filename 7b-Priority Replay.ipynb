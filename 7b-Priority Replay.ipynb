{
 "cells": [
  {
   "cell_type": "markdown",
   "metadata": {},
   "source": [
    "# Priority Replay"
   ]
  },
  {
   "cell_type": "markdown",
   "metadata": {},
   "source": [
    "[Prioritized Experience Replay](https://arxiv.org/pdf/1511.05952.pdf) Tom Schaul, John Quan, Ioannis Antonoglou and David Silver\n"
   ]
  },
  {
   "cell_type": "code",
   "execution_count": 2,
   "metadata": {
    "collapsed": true
   },
   "outputs": [],
   "source": [
    "import numpy as np"
   ]
  },
  {
   "cell_type": "markdown",
   "metadata": {},
   "source": [
    "## ProbabilityBag\n",
    "\n",
    "We need to prioritize memory replay with the following requirements:\n",
    " * Memories are stored with a relative priority\n",
    " * There is an upper limit to the priorities stored in memory, and things of lower priority fall off the buttom when the memory is full\n",
    " * We can sample the memories, and the probability of any given item being selected is proportional to its priority\n",
    " * Things with lower priority still have a chance of being selected\n",
    " * Memories will get pulled out of the memory pile, then put back in based on their new updated priorities\n"
   ]
  },
  {
   "cell_type": "markdown",
   "metadata": {},
   "source": [
    "The interface will be something like this:"
   ]
  },
  {
   "cell_type": "code",
   "execution_count": null,
   "metadata": {
    "collapsed": true
   },
   "outputs": [],
   "source": [
    "class ProbabilityBag:\n",
    "    def __init__(self, max_size, weight_column):\n",
    "        pass\n",
    "    \n",
    "    def pop_batch(self, n):\n",
    "        \"\"\"Remove a randomly selected batch of n items from the bag.  The probability\n",
    "        of an item being selected is proportional to its priority.\n",
    "        \"\"\"\n",
    "        \n",
    "    def push_batch(self, items):\n",
    "        \"\"\"Insert a group of items.  The priority of each item is the first member of the tuple.\n",
    "        Example:\n",
    "            item = (priority, state, action, reward)\n",
    "            items = [item]\n",
    "            probability_bag.push_batch(items)\n",
    "        \"\"\""
   ]
  },
  {
   "cell_type": "code",
   "execution_count": null,
   "metadata": {
    "collapsed": true
   },
   "outputs": [],
   "source": []
  },
  {
   "cell_type": "markdown",
   "metadata": {},
   "source": [
    "## Sampling with probability\n",
    "Numpy has [np.random.choice](https://docs.scipy.org/doc/numpy-1.13.0/reference/generated/numpy.random.choice.html) for selecting items with a given probability:"
   ]
  },
  {
   "cell_type": "code",
   "execution_count": 3,
   "metadata": {
    "collapsed": true
   },
   "outputs": [],
   "source": [
    "a = [1,2,3,4,5,6,7,8]\n",
    "weights = [3, 3, 3, 2, 2, 1, 1, 1]\n",
    "sum_w = sum(weights)\n",
    "p_a = [w / sum_w for w in weights]"
   ]
  },
  {
   "cell_type": "code",
   "execution_count": 4,
   "metadata": {
    "collapsed": false
   },
   "outputs": [
    {
     "data": {
      "text/plain": [
       "(16, [0.1875, 0.1875, 0.1875, 0.125, 0.125, 0.0625, 0.0625, 0.0625])"
      ]
     },
     "execution_count": 4,
     "metadata": {},
     "output_type": "execute_result"
    }
   ],
   "source": [
    "sum_w, p_a"
   ]
  },
  {
   "cell_type": "code",
   "execution_count": 10,
   "metadata": {
    "collapsed": false
   },
   "outputs": [
    {
     "data": {
      "text/plain": [
       "array([5, 2, 5])"
      ]
     },
     "execution_count": 10,
     "metadata": {},
     "output_type": "execute_result"
    }
   ],
   "source": [
    "np.random.choice(a, 3, p = p_a)"
   ]
  },
  {
   "cell_type": "markdown",
   "metadata": {},
   "source": [
    "Notice that we got 5 twice.  This is what the *replacement* value controls; set it to false to keep the item from going back into the choice pool once selected."
   ]
  },
  {
   "cell_type": "code",
   "execution_count": 15,
   "metadata": {
    "collapsed": false
   },
   "outputs": [
    {
     "data": {
      "text/plain": [
       "[array([1, 2, 8]),\n",
       " array([2, 3, 4]),\n",
       " array([4, 2, 5]),\n",
       " array([4, 1, 6]),\n",
       " array([2, 1, 4])]"
      ]
     },
     "execution_count": 15,
     "metadata": {},
     "output_type": "execute_result"
    }
   ],
   "source": [
    "[np.random.choice(a, 3, p=p_a, replace=False) for _ in range(5)]"
   ]
  },
  {
   "cell_type": "markdown",
   "metadata": {},
   "source": [
    "Ok, we never got duplicates."
   ]
  },
  {
   "cell_type": "markdown",
   "metadata": {},
   "source": [
    "Does ```np.random.choice``` work with plain python objects?"
   ]
  },
  {
   "cell_type": "code",
   "execution_count": 45,
   "metadata": {
    "collapsed": false
   },
   "outputs": [
    {
     "name": "stdout",
     "output_type": "stream",
     "text": [
      "weights [ 0.4  0.3  0.3  0.3  0.1]\n",
      "probabilities [ 0.28571429  0.21428571  0.21428571  0.21428571  0.07142857]\n"
     ]
    },
    {
     "data": {
      "text/plain": [
       "array(['Roland', 'Roland'],\n",
       "      dtype='<U6')"
      ]
     },
     "execution_count": 45,
     "metadata": {},
     "output_type": "execute_result"
    }
   ],
   "source": [
    "gunslingers = ['Roland','Odetta','Eddie','Jake','Oy']\n",
    "weights = np.array([0.4, 0.3, 0.3, 0.3, 0.1])\n",
    "print('weights',weights)\n",
    "probs = weights / sum(weights)\n",
    "print('probabilities',probs)\n",
    "np.random.choice(gunslingers, 2, p=probs)"
   ]
  },
  {
   "cell_type": "markdown",
   "metadata": {},
   "source": [
    "Oh cool, it *does* work with plain objects.\n",
    "\n",
    "But notice that I got the same thing twice. I need replace=False."
   ]
  },
  {
   "cell_type": "code",
   "execution_count": 49,
   "metadata": {
    "collapsed": false
   },
   "outputs": [
    {
     "data": {
      "text/plain": [
       "array(['Eddie', 'Oy'],\n",
       "      dtype='<U6')"
      ]
     },
     "execution_count": 49,
     "metadata": {},
     "output_type": "execute_result"
    }
   ],
   "source": [
    "np.random.choice(gunslingers, 2, p=probs, replace=False)"
   ]
  },
  {
   "cell_type": "markdown",
   "metadata": {},
   "source": [
    "But actually what I'm going to want to do is have it generate *array indecies* or row numbers, rather than python objects.  This is because I need to remove the corresponding items from both the weights array and the items list.\n",
    "\n",
    "Turns out numpy supports that too, saying that if the first item is passed as an integer it behaves as if ```np.arange(n)``` were used there."
   ]
  },
  {
   "cell_type": "code",
   "execution_count": 60,
   "metadata": {
    "collapsed": false
   },
   "outputs": [
    {
     "data": {
      "text/plain": [
       "array([0, 3])"
      ]
     },
     "execution_count": 60,
     "metadata": {},
     "output_type": "execute_result"
    }
   ],
   "source": [
    "np.random.choice(len(gunslingers), 2, p=probs, replace=False)"
   ]
  },
  {
   "cell_type": "markdown",
   "metadata": {},
   "source": [
    "## Remove an item and get its value"
   ]
  },
  {
   "cell_type": "code",
   "execution_count": 61,
   "metadata": {
    "collapsed": false
   },
   "outputs": [
    {
     "data": {
      "text/plain": [
       "'Jake'"
      ]
     },
     "execution_count": 61,
     "metadata": {},
     "output_type": "execute_result"
    }
   ],
   "source": [
    "gunslingers = ['Roland','Odetta','Eddie','Jake','Oy']\n",
    "index = 3\n",
    "gunslingers[index]"
   ]
  },
  {
   "cell_type": "code",
   "execution_count": 63,
   "metadata": {
    "collapsed": false
   },
   "outputs": [
    {
     "data": {
      "text/plain": [
       "('Jake', ['Roland', 'Odetta', 'Eddie', 'Oy'])"
      ]
     },
     "execution_count": 63,
     "metadata": {},
     "output_type": "execute_result"
    }
   ],
   "source": [
    "item = gunslingers.pop(index)\n",
    "item, gunslingers"
   ]
  },
  {
   "cell_type": "code",
   "execution_count": 72,
   "metadata": {
    "collapsed": false
   },
   "outputs": [
    {
     "data": {
      "text/plain": [
       "[3, 0]"
      ]
     },
     "execution_count": 72,
     "metadata": {},
     "output_type": "execute_result"
    }
   ],
   "source": [
    "indexes = np.array([0,3])\n",
    "indexes2 = sorted(list(indexes), reverse=True) # Theres probably a way to do this in numpy, but this is fine.\n",
    "indexes2\n"
   ]
  },
  {
   "cell_type": "code",
   "execution_count": 66,
   "metadata": {
    "collapsed": true
   },
   "outputs": [],
   "source": []
  },
  {
   "cell_type": "markdown",
   "metadata": {},
   "source": [
    "## Accessing the priority\n",
    "I was considering keeping the probability as one column in a matrix.  I don't think I'll do that now, but if I do:"
   ]
  },
  {
   "cell_type": "code",
   "execution_count": 16,
   "metadata": {
    "collapsed": true
   },
   "outputs": [],
   "source": [
    "items = np.array([[1,2,3],[4,5,6],[7,8,9]])"
   ]
  },
  {
   "cell_type": "code",
   "execution_count": 64,
   "metadata": {
    "collapsed": false
   },
   "outputs": [
    {
     "ename": "TypeError",
     "evalue": "list indices must be integers or slices, not tuple",
     "output_type": "error",
     "traceback": [
      "\u001b[0;31m---------------------------------------------------------------------------\u001b[0m",
      "\u001b[0;31mTypeError\u001b[0m                                 Traceback (most recent call last)",
      "\u001b[0;32m<ipython-input-64-d573cbf5b5c9>\u001b[0m in \u001b[0;36m<module>\u001b[0;34m()\u001b[0m\n\u001b[0;32m----> 1\u001b[0;31m \u001b[0mitems\u001b[0m\u001b[1;33m[\u001b[0m\u001b[1;33m:\u001b[0m\u001b[1;33m,\u001b[0m\u001b[1;36m0\u001b[0m\u001b[1;33m]\u001b[0m\u001b[1;33m\u001b[0m\u001b[0m\n\u001b[0m",
      "\u001b[0;31mTypeError\u001b[0m: list indices must be integers or slices, not tuple"
     ]
    }
   ],
   "source": [
    "items[:,0]"
   ]
  },
  {
   "cell_type": "markdown",
   "metadata": {
    "collapsed": true
   },
   "source": [
    "## Deleting multiple rows\n"
   ]
  },
  {
   "cell_type": "code",
   "execution_count": 20,
   "metadata": {
    "collapsed": false
   },
   "outputs": [
    {
     "data": {
      "text/plain": [
       "array([[  1.63036584e-01,   7.11914199e-01,   0.00000000e+00],\n",
       "       [  3.32402832e-01,   6.21921974e-01,   1.00000000e+00],\n",
       "       [  1.75515013e-03,   8.18383945e-01,   2.00000000e+00],\n",
       "       [  4.97962605e-01,   1.41039400e-01,   3.00000000e+00],\n",
       "       [  1.99574623e-01,   3.28493697e-01,   4.00000000e+00]])"
      ]
     },
     "execution_count": 20,
     "metadata": {},
     "output_type": "execute_result"
    }
   ],
   "source": [
    "items = np.array([(np.random.uniform(), np.random.uniform(), i) for i in range(5)])\n",
    "items"
   ]
  },
  {
   "cell_type": "code",
   "execution_count": 25,
   "metadata": {
    "collapsed": false
   },
   "outputs": [
    {
     "data": {
      "text/plain": [
       "array([[  3.32402832e-01,   6.21921974e-01,   1.00000000e+00],\n",
       "       [  1.75515013e-03,   8.18383945e-01,   2.00000000e+00],\n",
       "       [  4.97962605e-01,   1.41039400e-01,   3.00000000e+00],\n",
       "       [  1.99574623e-01,   3.28493697e-01,   4.00000000e+00]])"
      ]
     },
     "execution_count": 25,
     "metadata": {},
     "output_type": "execute_result"
    }
   ],
   "source": [
    "revised = np.delete(items, [0], axis=0) # Delete one item. index is zero based\n",
    "revised"
   ]
  },
  {
   "cell_type": "code",
   "execution_count": 24,
   "metadata": {
    "collapsed": false
   },
   "outputs": [
    {
     "data": {
      "text/plain": [
       "array([[  1.63036584e-01,   7.11914199e-01,   0.00000000e+00],\n",
       "       [  3.32402832e-01,   6.21921974e-01,   1.00000000e+00],\n",
       "       [  1.75515013e-03,   8.18383945e-01,   2.00000000e+00],\n",
       "       [  4.97962605e-01,   1.41039400e-01,   3.00000000e+00],\n",
       "       [  1.99574623e-01,   3.28493697e-01,   4.00000000e+00]])"
      ]
     },
     "execution_count": 24,
     "metadata": {},
     "output_type": "execute_result"
    }
   ],
   "source": [
    "items # original array is not changed"
   ]
  },
  {
   "cell_type": "code",
   "execution_count": 26,
   "metadata": {
    "collapsed": false
   },
   "outputs": [
    {
     "data": {
      "text/plain": [
       "array([[  1.63036584e-01,   7.11914199e-01,   0.00000000e+00],\n",
       "       [  1.75515013e-03,   8.18383945e-01,   2.00000000e+00],\n",
       "       [  1.99574623e-01,   3.28493697e-01,   4.00000000e+00]])"
      ]
     },
     "execution_count": 26,
     "metadata": {},
     "output_type": "execute_result"
    }
   ],
   "source": [
    "revised = np.delete(items, [1, 3], axis=0) # Delete multiple items\n",
    "revised"
   ]
  },
  {
   "cell_type": "markdown",
   "metadata": {},
   "source": [
    "## Delete multiple columns"
   ]
  },
  {
   "cell_type": "code",
   "execution_count": 77,
   "metadata": {
    "collapsed": false
   },
   "outputs": [
    {
     "data": {
      "text/plain": [
       "array([0, 1, 2, 3, 4, 5])"
      ]
     },
     "execution_count": 77,
     "metadata": {},
     "output_type": "execute_result"
    }
   ],
   "source": [
    "a = np.array([0,1,2,3,4,5])\n",
    "a"
   ]
  },
  {
   "cell_type": "code",
   "execution_count": 84,
   "metadata": {
    "collapsed": false
   },
   "outputs": [
    {
     "data": {
      "text/plain": [
       "6"
      ]
     },
     "execution_count": 84,
     "metadata": {},
     "output_type": "execute_result"
    }
   ],
   "source": [
    "# Determine the sum of the first n items before you delete them\n",
    "np.sum(a[:4])"
   ]
  },
  {
   "cell_type": "code",
   "execution_count": 86,
   "metadata": {
    "collapsed": false
   },
   "outputs": [
    {
     "data": {
      "text/plain": [
       "array([4, 5])"
      ]
     },
     "execution_count": 86,
     "metadata": {},
     "output_type": "execute_result"
    }
   ],
   "source": [
    "np.delete(a, np.s_[:4]) # Delete the first 4 items from the front"
   ]
  },
  {
   "cell_type": "code",
   "execution_count": 88,
   "metadata": {
    "collapsed": false
   },
   "outputs": [
    {
     "data": {
      "text/plain": [
       "['2', '3', '4']"
      ]
     },
     "execution_count": 88,
     "metadata": {},
     "output_type": "execute_result"
    }
   ],
   "source": [
    "b=['0','1','2','3','4']\n",
    "b = b[2:] # Delete first 2 items from b\n",
    "b"
   ]
  },
  {
   "cell_type": "markdown",
   "metadata": {},
   "source": [
    "## Appending to end of array"
   ]
  },
  {
   "cell_type": "code",
   "execution_count": 27,
   "metadata": {
    "collapsed": false
   },
   "outputs": [
    {
     "data": {
      "text/plain": [
       "array([[ 0.77177247,  0.24157203,  0.        ],\n",
       "       [ 0.36031219,  0.16887835,  1.        ],\n",
       "       [ 0.96218638,  0.95175048,  2.        ],\n",
       "       [ 0.48284661,  0.49979654,  3.        ],\n",
       "       [ 0.61589527,  0.07276737,  4.        ]])"
      ]
     },
     "execution_count": 27,
     "metadata": {},
     "output_type": "execute_result"
    }
   ],
   "source": [
    "items = np.array([(np.random.uniform(), np.random.uniform(), i) for i in range(5)])\n",
    "items"
   ]
  },
  {
   "cell_type": "code",
   "execution_count": 29,
   "metadata": {
    "collapsed": false
   },
   "outputs": [
    {
     "data": {
      "text/plain": [
       "array([  7.71772470e-01,   2.41572029e-01,   0.00000000e+00,\n",
       "         3.60312191e-01,   1.68878352e-01,   1.00000000e+00,\n",
       "         9.62186376e-01,   9.51750478e-01,   2.00000000e+00,\n",
       "         4.82846614e-01,   4.99796542e-01,   3.00000000e+00,\n",
       "         6.15895272e-01,   7.27673690e-02,   4.00000000e+00,\n",
       "         1.20000000e+01,   1.20000000e+01,   9.90000000e+01])"
      ]
     },
     "execution_count": 29,
     "metadata": {},
     "output_type": "execute_result"
    }
   ],
   "source": [
    "revised = np.append(items, [12, 12, 99])\n",
    "revised"
   ]
  },
  {
   "cell_type": "code",
   "execution_count": 31,
   "metadata": {
    "collapsed": false
   },
   "outputs": [
    {
     "data": {
      "text/plain": [
       "array([[ 0.77177247,  0.24157203,  0.        ],\n",
       "       [ 0.36031219,  0.16887835,  1.        ],\n",
       "       [ 0.96218638,  0.95175048,  2.        ],\n",
       "       [ 0.48284661,  0.49979654,  3.        ],\n",
       "       [ 0.61589527,  0.07276737,  4.        ]])"
      ]
     },
     "execution_count": 31,
     "metadata": {},
     "output_type": "execute_result"
    }
   ],
   "source": [
    "items # original array is not impacted"
   ]
  },
  {
   "cell_type": "code",
   "execution_count": 34,
   "metadata": {
    "collapsed": false
   },
   "outputs": [
    {
     "data": {
      "text/plain": [
       "array([], dtype=float64)"
      ]
     },
     "execution_count": 34,
     "metadata": {},
     "output_type": "execute_result"
    }
   ],
   "source": [
    "bag = np.array([])\n",
    "bag"
   ]
  },
  {
   "cell_type": "code",
   "execution_count": 37,
   "metadata": {
    "collapsed": false
   },
   "outputs": [
    {
     "data": {
      "text/plain": [
       "array([ 7.])"
      ]
     },
     "execution_count": 37,
     "metadata": {},
     "output_type": "execute_result"
    }
   ],
   "source": [
    "np.append(bag, 7)"
   ]
  },
  {
   "cell_type": "code",
   "execution_count": null,
   "metadata": {
    "collapsed": true
   },
   "outputs": [],
   "source": []
  }
 ],
 "metadata": {
  "kernelspec": {
   "display_name": "Python [conda root]",
   "language": "python",
   "name": "conda-root-py"
  },
  "language_info": {
   "codemirror_mode": {
    "name": "ipython",
    "version": 3
   },
   "file_extension": ".py",
   "mimetype": "text/x-python",
   "name": "python",
   "nbconvert_exporter": "python",
   "pygments_lexer": "ipython3",
   "version": "3.5.6"
  }
 },
 "nbformat": 4,
 "nbformat_minor": 1
}
