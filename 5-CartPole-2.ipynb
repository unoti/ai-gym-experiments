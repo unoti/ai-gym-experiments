{
 "cells": [
  {
   "cell_type": "markdown",
   "metadata": {},
   "source": [
    "# The Cart Pole Environment\n",
    "Let's take what we've learned and try it out on the [Cart Pole environment](https://gym.openai.com/envs/CartPole-v1/)."
   ]
  },
  {
   "cell_type": "code",
   "execution_count": 4,
   "metadata": {
    "collapsed": true
   },
   "outputs": [],
   "source": [
    "import numpy as np\n",
    "import gym\n",
    "from util import log_progress\n",
    "import matplotlib.pyplot as plt\n",
    "import numpy as np"
   ]
  },
  {
   "cell_type": "code",
   "execution_count": 18,
   "metadata": {
    "collapsed": false
   },
   "outputs": [
    {
     "name": "stderr",
     "output_type": "stream",
     "text": [
      "[2019-11-21 08:56:29,152] Making new env: CartPole-v1\n"
     ]
    }
   ],
   "source": [
    "env = gym.make('CartPole-v1')\n",
    "observation = env.reset()"
   ]
  },
  {
   "cell_type": "markdown",
   "metadata": {},
   "source": [
    "The idea here is there's a cart you can move left or right, and a pole mounted to a joint.  The agent gets rewards each step the pole is above center.  The episode ends if the cart moves too far to the left or right, or if the pole gets more than 15 degrees from vertical.\n",
    "\n",
    "Let's bring in some of our earlier code and get a random agent going."
   ]
  },
  {
   "cell_type": "code",
   "execution_count": 58,
   "metadata": {
    "collapsed": true
   },
   "outputs": [],
   "source": [
    "def plot_episode_lengths(episode_lengths, epsilons):\n",
    "    # Plot the episode length over time\n",
    "    fig1 = plt.figure(figsize=(10,5))\n",
    "    plt.subplot(211)\n",
    "    plt.plot(episode_lengths)\n",
    "    plt.xlabel(\"Episode\")\n",
    "    plt.ylabel(\"Episode Length\")\n",
    "    plt.title(\"Episode Length over Time\")\n",
    "    \n",
    "    plt.subplot(212)\n",
    "    plt.plot(epsilons)\n",
    "    plt.show(fig1)"
   ]
  },
  {
   "cell_type": "markdown",
   "metadata": {},
   "source": [
    "## Neural Net\n",
    "We're going to need a function approximator. We'll use a neural net for that using the approach desribed in notebook 3, *Neural Net Approximation*.  We will put the function approximator in its own class, because this is a switchable component.  Neural nets are just one way of doing function approximation, and we might want to try some other ways.  It's also nice to keep the function approximation code separate from the Q learning code, to keep the different parts of the code easier to understand.  Plus, keeping them separate makes it easier to test and improve the components  separately from each other.\n",
    "\n",
    "For example, I think I might want to add dropout and L2 regularization to the neural network later.  Having it as a separate component lets me do that and compare the results of the improved approximator versus the vanilla approximator."
   ]
  },
  {
   "cell_type": "code",
   "execution_count": 2,
   "metadata": {
    "collapsed": false
   },
   "outputs": [
    {
     "name": "stderr",
     "output_type": "stream",
     "text": [
      "Using TensorFlow backend.\n"
     ]
    }
   ],
   "source": [
    "from keras.models import Sequential\n",
    "from keras.layers import Dense # Dropout, BatchNormalization\n",
    "from keras.optimizers import Adam\n",
    "\n",
    "class Approximator:\n",
    "    \"\"\"A function approximator implemented with a deep neural net.\"\"\"\n",
    "    def __init__(self, num_inputs, num_outputs, learning_rate=0.01):\n",
    "        self.model = Sequential()\n",
    "        self.model.add(Dense(32, input_shape=(num_inputs,), activation='relu'))\n",
    "        #self.model.add(Dense(64, activation='relu'))\n",
    "        self.model.add(Dense(64, activation='relu'))\n",
    "        self.model.add(Dense(num_outputs, activation='linear'))\n",
    "\n",
    "        adam = Adam(lr=0.011, beta_1=0.9, beta_2=0.999, epsilon=1e-08, decay=0.0)\n",
    "        self.model.compile(optimizer=adam, loss='mse', metrics=['mse'])\n",
    "\n",
    "    def predict_multi(self, X_batch):\n",
    "        \"\"\"Predict the outputs for multiple input values at once.\n",
    "        X_batch: an np array of m number of X values to predict, of shape (num_inputs, m)\n",
    "        where m is the number of items you'd like to predict.\n",
    "        \"\"\"\n",
    "        return self.model.predict(X_batch)\n",
    "    \n",
    "    def train_multi(self, X, Y, batch_size=16, epochs=1, verbose=0):\n",
    "        \"\"\"\n",
    "        Train the model with m samples.\n",
    "        X: the input values, of shape (num_inputs, m)\n",
    "        Y: the target values, of shape (num_outputs, m)\n",
    "        \"\"\"\n",
    "        self.model.fit(X, Y, epochs=epochs, batch_size=batch_size, verbose=verbose)\n",
    "    \n",
    "    def predict(self, X):\n",
    "        \"\"\"Predict a single output given a single input.\n",
    "        X: one set of X values to predict. X shape is (num_inputs,).\n",
    "        \"\"\"\n",
    "        predictions = self.predict_multi(np.array([X])) # An array for m input values.\n",
    "        return predictions[0] # We're just doing one here.\n",
    "    \n",
    "    def train(self, X, Y):\n",
    "        \"\"\"Train a single input/output pair.\n",
    "        X: inputs of shape (num_inputs,)\n",
    "        Y: target outputs of shape (num_outputs,)\"\"\"\n",
    "        batch_X = np.array([X])\n",
    "        batch_Y = np.array([Y])\n",
    "        self.train_multi(batch_X, batch_Y, batch_size=1)"
   ]
  },
  {
   "cell_type": "code",
   "execution_count": 9,
   "metadata": {
    "collapsed": false
   },
   "outputs": [
    {
     "data": {
      "text/plain": [
       "array([[ 0.18371204,  0.68930346],\n",
       "       [-0.07629693,  0.23742113]], dtype=float32)"
      ]
     },
     "execution_count": 9,
     "metadata": {},
     "output_type": "execute_result"
    }
   ],
   "source": [
    "ap = Approximator(num_inputs=4, num_outputs=2)\n",
    "X = np.array([[1,2,3,4], [1,1,1,1]])\n",
    "ap.predict_multi(X)"
   ]
  },
  {
   "cell_type": "code",
   "execution_count": 10,
   "metadata": {
    "collapsed": false
   },
   "outputs": [
    {
     "data": {
      "text/plain": [
       "array([ 0.18371208,  0.68930358], dtype=float32)"
      ]
     },
     "execution_count": 10,
     "metadata": {},
     "output_type": "execute_result"
    }
   ],
   "source": [
    "ap.predict(np.array([1,2,3,4]))"
   ]
  },
  {
   "cell_type": "markdown",
   "metadata": {},
   "source": [
    "Now we'll train the outputs to be closer to [-4,5]:"
   ]
  },
  {
   "cell_type": "code",
   "execution_count": 11,
   "metadata": {
    "collapsed": true
   },
   "outputs": [],
   "source": [
    "ap.train(np.array([1,2,3,4]), np.array([-4, 5]))"
   ]
  },
  {
   "cell_type": "code",
   "execution_count": 12,
   "metadata": {
    "collapsed": false
   },
   "outputs": [
    {
     "data": {
      "text/plain": [
       "array([-0.45976734,  1.2333988 ], dtype=float32)"
      ]
     },
     "execution_count": 12,
     "metadata": {},
     "output_type": "execute_result"
    }
   ],
   "source": [
    "ap.predict(np.array([1,2,3,4]))"
   ]
  },
  {
   "cell_type": "markdown",
   "metadata": {},
   "source": [
    "## Agent"
   ]
  },
  {
   "cell_type": "code",
   "execution_count": 62,
   "metadata": {
    "collapsed": true
   },
   "outputs": [],
   "source": [
    "class Agent:\n",
    "    def __init__(self, env, policy):\n",
    "        self.env = env\n",
    "        self.policy = policy\n",
    "    \n",
    "    def run_episode(self, render=False):\n",
    "        episode = [] # prev_state, prev_action, reward, state, done\n",
    "        state = env.reset()\n",
    "        action = None\n",
    "        while True:\n",
    "            prev_state = state\n",
    "            prev_action = action\n",
    "            action = self.policy.suggest_action(state)\n",
    "            state, reward, done, _ = env.step(action)\n",
    "            episode.append((prev_state, prev_action, reward, state, done))\n",
    "            #self.policy.update_step(prev_state, prev_action, reward, state)\n",
    "            if render:\n",
    "                self.env.render()\n",
    "            if done:\n",
    "                break\n",
    "        return episode\n",
    "    \n",
    "    def train(self, episodes=100, render=False, epsilon_start=1.0, epsilon_min = 0.01, epsilon_decay=0.99):\n",
    "        episode_lengths = []\n",
    "        epsilons = []\n",
    "        \n",
    "        epsilon_orig = agent.policy.epsilon # Save the original epsilon, in case we want to do external things with agent later.\n",
    "        agent.policy.epsilon = epsilon_start\n",
    "        \n",
    "        for i in log_progress(range(episodes), name='Episodes'):\n",
    "            episode = self.run_episode(render=render)\n",
    "            episode_lengths.append(len(episode))\n",
    "            epsilons.append(agent.policy.epsilon)\n",
    "            agent.policy.episode_completed(episode)\n",
    "            agent.policy.epsilon = max(agent.policy.epsilon * epsilon_decay, epsilon_min) # Decay epsilon, but not below minimum.\n",
    "            \n",
    "        plot_episode_lengths(episode_lengths, epsilons)\n",
    "        print('Max length=%f avg=%f' % (np.max(episode_lengths), np.mean(episode_lengths)))\n",
    "        \n",
    "        agent.policy.epsilon = epsilon_orig # Restore epsilon."
   ]
  },
  {
   "cell_type": "markdown",
   "metadata": {},
   "source": [
    "## Deep Q Learning"
   ]
  },
  {
   "cell_type": "code",
   "execution_count": 41,
   "metadata": {
    "collapsed": true
   },
   "outputs": [],
   "source": [
    "from collections import deque\n",
    "import random\n",
    "\n",
    "class DeepQPolicy:            \n",
    "    def __init__(self, env, learning_rate=0.001, epsilon=0.1, gamma=0.99, snapshots=1000, batch_size=256):\n",
    "        \"\"\"epsilon: probability of exploring by selecting a random action\n",
    "        gamma: Discount factor for future rewards. Between 0 - 1.\n",
    "        learning_rate: learning rate for the approximator\n",
    "        \"\"\"\n",
    "        self.env = env\n",
    "        self.epsilon = epsilon\n",
    "        self.gamma = gamma # Discount factor for future rewards.\n",
    "        self.action_list = list(range(self.env.action_space.n)) # All possible actions, like [0,1].\n",
    "        # Function approximator:\n",
    "        # Inputs: state\n",
    "        # Outputs: for each possible action, discounted sum of expected rewards\n",
    "        num_inputs = env.observation_space.shape[0]\n",
    "        num_outputs = len(self.action_list)\n",
    "        self.model = Approximator(num_inputs, num_outputs, learning_rate)\n",
    "        self.snapshots = deque(maxlen=snapshots)\n",
    "        self.batch_size = batch_size\n",
    "\n",
    "    def suggest_action(self, state, epsilon=None):\n",
    "        if epsilon == None:\n",
    "            epsilon = self.epsilon\n",
    "        if np.random.uniform() <= epsilon:\n",
    "            return self.env.action_space.sample()\n",
    "\n",
    "        rewards_by_state = self.model.predict(state) # One reward prediction for each possible action.\n",
    "        action = np.argmax(rewards_by_state) # Index of the best action.\n",
    "        return action\n",
    "\n",
    "    def episode_completed(self, episode):\n",
    "        # Update the neural net to say for each step:\n",
    "        # If you take this action in this state, this is the total expected rewards for the whole episode.\n",
    "        total_rewards = sum([reward for (prev_state, prev_action, reward, state, done) in episode])\n",
    "        for (prev_state, prev_action, reward, state, done) in episode:\n",
    "            rewards_all = self.model.predict(prev_state)\n",
    "            rewards_all[prev_action] = total_rewards\n",
    "            self.model.train(prev_state, rewards_all) # Adjust the model towards the total rewards.\n",
    "        \n",
    "    def _xx_not_used__update_step(self, prev_state, prev_action, reward, state):\n",
    "        \"\"\"Update the approximations of the reward function.\n",
    "        See Sutton p. 130 formula 6.7\n",
    "        \"\"\"\n",
    "        prev_rewards_all = self.model.predict(prev_state) # Rewards predicted for prev_state for all actions.\n",
    "        next_rewards_all = self.model.predict(state) # Rewards for all possible *next* actions.\n",
    "        \n",
    "        future_estimate = np.max(next_rewards_all) # Estimated future rewards if we take the best estimated action\n",
    "\n",
    "        # Update prev_state's estimate to be closer to (the reward we got plus the expected future rewards).\n",
    "        # target_prev = reward + (gamma * future_estimated)\n",
    "        q_target = reward + self.gamma * future_estimate\n",
    "        prev_rewards_all[prev_action] = q_target\n",
    "        self.model.train(prev_state, prev_rewards_all)"
   ]
  },
  {
   "cell_type": "code",
   "execution_count": 63,
   "metadata": {
    "collapsed": false
   },
   "outputs": [
    {
     "data": {
      "image/png": "[encoded data removed]",
      "text/plain": [
       "<Figure size 720x360 with 2 Axes>"
      ]
     },
     "metadata": {},
     "output_type": "display_data"
    },
    {
     "name": "stdout",
     "output_type": "stream",
     "text": [
      "Max length=61.000000 avg=27.100000\n"
     ]
    }
   ],
   "source": [
    "agent = Agent(env, DeepQPolicy(env))\n",
    "agent.train(episodes=10)"
   ]
  },
  {
   "cell_type": "code",
   "execution_count": 64,
   "metadata": {
    "collapsed": false
   },
   "outputs": [
    {
     "data": {
      "text/plain": [
       "array([ 16.10690117,  15.69293785], dtype=float32)"
      ]
     },
     "execution_count": 64,
     "metadata": {},
     "output_type": "execute_result"
    }
   ],
   "source": [
    "def peek():\n",
    "    state = env.reset()\n",
    "    return agent.policy.model.predict(state)\n",
    "peek()"
   ]
  },
  {
   "cell_type": "code",
   "execution_count": 65,
   "metadata": {
    "collapsed": false
   },
   "outputs": [
    {
     "data": {
      "image/png": "[encoded data removed]",
      "text/plain": [
       "<Figure size 720x360 with 2 Axes>"
      ]
     },
     "metadata": {},
     "output_type": "display_data"
    },
    {
     "name": "stdout",
     "output_type": "stream",
     "text": [
      "Max length=145.000000 avg=15.527000\n"
     ]
    }
   ],
   "source": [
    "agent.train(episodes=1000)"
   ]
  },
  {
   "cell_type": "markdown",
   "metadata": {},
   "source": [
    "It's getting brief flashes of insight, then forgetting them.  Try integrating experience replay."
   ]
  },
  {
   "cell_type": "code",
   "execution_count": null,
   "metadata": {
    "collapsed": true
   },
   "outputs": [],
   "source": []
  }
 ],
 "metadata": {
  "anaconda-cloud": {},
  "kernelspec": {
   "display_name": "Python [default]",
   "language": "python",
   "name": "python3"
  },
  "language_info": {
   "codemirror_mode": {
    "name": "ipython",
    "version": 3
   },
   "file_extension": ".py",
   "mimetype": "text/x-python",
   "name": "python",
   "nbconvert_exporter": "python",
   "pygments_lexer": "ipython3",
   "version": "3.5.6"
  },
  "widgets": {
   "state": {
    "849f347f54954c508b463cea17a35351": {
     "views": [
      {
       "cell_index": 18
      }
     ]
    },
    "d1c3c757beb14cada3fb5fd3c407a27a": {
     "views": [
      {
       "cell_index": 16
      }
     ]
    }
   },
   "version": "1.2.0"
  }
 },
 "nbformat": 4,
 "nbformat_minor": 2
}
