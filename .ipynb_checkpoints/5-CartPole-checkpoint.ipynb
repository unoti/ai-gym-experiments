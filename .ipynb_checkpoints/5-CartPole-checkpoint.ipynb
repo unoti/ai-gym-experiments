{
 "cells": [
  {
   "cell_type": "markdown",
   "metadata": {},
   "source": [
    "# The Cart Pole Environment\n",
    "Let's take what we've learned and try it out on the [Cart Pole environment](https://gym.openai.com/envs/CartPole-v1/)."
   ]
  },
  {
   "cell_type": "code",
   "execution_count": 1,
   "metadata": {},
   "outputs": [
    {
     "data": {
      "text/plain": [
       "True"
      ]
     },
     "execution_count": 1,
     "metadata": {},
     "output_type": "execute_result"
    }
   ],
   "source": [
    "import gym\n",
    "env = gym.make('CartPole-v1')\n",
    "observation = env.reset()\n",
    "env.render()"
   ]
  },
  {
   "attachments": {
    "image.png": {
     "image/png": "[encoded data removed]"
    }
   },
   "cell_type": "markdown",
   "metadata": {},
   "source": [
    "![image.png](attachment:image.png)"
   ]
  },
  {
   "cell_type": "markdown",
   "metadata": {},
   "source": [
    "The idea on this one is there's a cart you can move left or right, and a pole mounted to a joint.  The agent gets rewards each step the pole is above center.  The episode ends if the cart moves too far to the left or right, or if the pole gets more than 15 degrees from vertical.\n",
    "\n",
    "Let's bring in some of our earlier code and get a random agent going."
   ]
  },
  {
   "cell_type": "code",
   "execution_count": 29,
   "metadata": {},
   "outputs": [],
   "source": [
    "env.close()"
   ]
  },
  {
   "cell_type": "code",
   "execution_count": 13,
   "metadata": {},
   "outputs": [],
   "source": [
    "class Episode:\n",
    "    \"\"\"Tracks the history of what happened in a playthrough, which we can use for training.\"\"\"\n",
    "    def __init__(self):\n",
    "        self.steps = [] # For each time step, a tuple of (state, action, reward)\n",
    "        self.got_reward = False\n",
    "    \n",
    "    def record_step(self, state, action, reward):\n",
    "        step = (state, action, reward)\n",
    "        self.steps.append(step)\n",
    "        if reward > -1:\n",
    "            self.got_reward = True\n",
    "\n",
    "    def __len__(self):\n",
    "        return len(self.steps)\n",
    "            \n",
    "class RandomPolicy:            \n",
    "    def __init__(self, env):\n",
    "        self.env = env\n",
    "\n",
    "    def suggest_action(self, state):\n",
    "        return self.env.action_space.sample()\n",
    "    \n",
    "    def update_policy(self, episode):\n",
    "        pass\n",
    "    \n",
    "    def generalize(self, observation):\n",
    "        return observation\n",
    "            \n",
    "class Agent:\n",
    "    max_steps_per_episode = 1000\n",
    "    \n",
    "    def __init__(self, env, policy):\n",
    "        self.env = env\n",
    "        self.policy = policy\n",
    "    \n",
    "    def run_episode(self, render=False):\n",
    "        episode = Episode()\n",
    "        observation = env.reset()\n",
    "        for i in range(self.max_steps_per_episode):\n",
    "            state = self.policy.generalize(observation)\n",
    "            action = self.policy.suggest_action(state)\n",
    "            observation, reward, done, info = env.step(action)\n",
    "            episode.record_step(state, action, reward)\n",
    "            if render:\n",
    "                env.render()\n",
    "            if done:\n",
    "                break\n",
    "        return episode\n",
    "    \n",
    "    def train(self, episode_count):\n",
    "        \"\"\"Train for a number of episodes.  Returns a list of episode lengths.\"\"\"\n",
    "        training_history = []\n",
    "        for i in range(episode_count):\n",
    "            episode = self.run_episode()\n",
    "            self.policy.update_policy(episode)\n",
    "            training_history.append(len(episode))\n",
    "        return training_history\n",
    "\n",
    "rand_agent = Agent(env, RandomPolicy(env))"
   ]
  },
  {
   "cell_type": "code",
   "execution_count": 23,
   "metadata": {},
   "outputs": [],
   "source": [
    "episode = rand_agent.run_episode(render=True)"
   ]
  },
  {
   "cell_type": "markdown",
   "metadata": {},
   "source": [
    "Let's look at our state space.  How many attributes are there in the state, and how many in the actions?"
   ]
  },
  {
   "cell_type": "code",
   "execution_count": 22,
   "metadata": {},
   "outputs": [
    {
     "name": "stdout",
     "output_type": "stream",
     "text": [
      "Box(4,)\n",
      "[4.8000002e+00 3.4028235e+38 4.1887903e-01 3.4028235e+38]\n",
      "[-4.8000002e+00 -3.4028235e+38 -4.1887903e-01 -3.4028235e+38]\n"
     ]
    }
   ],
   "source": [
    "print(env.observation_space)\n",
    "print(env.observation_space.high)\n",
    "print(env.observation_space.low)"
   ]
  },
  {
   "cell_type": "code",
   "execution_count": 24,
   "metadata": {},
   "outputs": [
    {
     "name": "stdout",
     "output_type": "stream",
     "text": [
      "Discrete(2)\n"
     ]
    }
   ],
   "source": [
    "print(env.action_space)"
   ]
  },
  {
   "cell_type": "markdown",
   "metadata": {},
   "source": [
    "So there are just 2 actions, move left and move right."
   ]
  },
  {
   "cell_type": "markdown",
   "metadata": {},
   "source": [
    "Let's look at that episode to see if we were getting any rewards at first."
   ]
  },
  {
   "cell_type": "code",
   "execution_count": 26,
   "metadata": {},
   "outputs": [
    {
     "data": {
      "text/plain": [
       "[(array([-0.03947672, -0.00646558,  0.02318071, -0.00657104]), 0, 1.0),\n",
       " (array([-0.03960603, -0.20191217,  0.02304929,  0.2933346 ]), 0, 1.0),\n",
       " (array([-0.04364427, -0.39735504,  0.02891598,  0.59319692]), 1, 1.0),\n",
       " (array([-0.05159137, -0.20264954,  0.04077992,  0.30976087]), 1, 1.0),\n",
       " (array([-0.05564436, -0.00813162,  0.04697514,  0.03021255]), 0, 1.0),\n",
       " (array([-0.055807  , -0.20389465,  0.04757939,  0.33733878]), 0, 1.0),\n",
       " (array([-0.05988489, -0.39966024,  0.05432617,  0.64463792]), 1, 1.0),\n",
       " (array([-0.06787809, -0.20533579,  0.06721892,  0.3695453 ]), 0, 1.0),\n",
       " (array([-0.07198481, -0.4013452 ,  0.07460983,  0.68264292]), 1, 1.0),\n",
       " (array([-0.08001171, -0.20733428,  0.08826269,  0.41435111]), 0, 1.0),\n",
       " (array([-0.0841584 , -0.40358914,  0.09654971,  0.73350303]), 1, 1.0),\n",
       " (array([-0.09223018, -0.20992435,  0.11121977,  0.47270031]), 0, 1.0),\n",
       " (array([-0.09642867, -0.40642692,  0.12067378,  0.79826425]), 1, 1.0),\n",
       " (array([-0.10455721, -0.21314896,  0.13663906,  0.5458477 ]), 1, 1.0),\n",
       " (array([-0.10882019, -0.02018469,  0.14755602,  0.29914612]), 0, 1.0),\n",
       " (array([-0.10922388, -0.217068  ,  0.15353894,  0.63448611]), 0, 1.0),\n",
       " (array([-0.11356524, -0.41396045,  0.16622866,  0.97131372]), 1, 1.0),\n",
       " (array([-0.12184445, -0.22141222,  0.18565494,  0.73511903]), 0, 1.0),\n",
       " (array([-0.12627269, -0.41854716,  0.20035732,  1.08000949]), 1, 1.0)]"
      ]
     },
     "execution_count": 26,
     "metadata": {},
     "output_type": "execute_result"
    }
   ],
   "source": [
    "episode.steps"
   ]
  },
  {
   "cell_type": "code",
   "execution_count": null,
   "metadata": {},
   "outputs": [],
   "source": []
  }
 ],
 "metadata": {
  "kernelspec": {
   "display_name": "Python 3",
   "language": "python",
   "name": "python3"
  },
  "language_info": {
   "codemirror_mode": {
    "name": "ipython",
    "version": 3
   },
   "file_extension": ".py",
   "mimetype": "text/x-python",
   "name": "python",
   "nbconvert_exporter": "python",
   "pygments_lexer": "ipython3",
   "version": "3.7.4"
  }
 },
 "nbformat": 4,
 "nbformat_minor": 2
}
