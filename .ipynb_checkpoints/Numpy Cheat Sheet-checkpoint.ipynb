{
 "cells": [
  {
   "cell_type": "markdown",
   "metadata": {},
   "source": [
    "## Rico's Numpy Cheat Sheet\n",
    "\n",
    "This notebook contains resources and references for doing common things in numpy."
   ]
  },
  {
   "cell_type": "code",
   "execution_count": 2,
   "metadata": {},
   "outputs": [],
   "source": [
    "import numpy as np"
   ]
  },
  {
   "cell_type": "markdown",
   "metadata": {},
   "source": [
    "## Converting continuous probabilities into binary classifications\n",
    "\n",
    "Here's how to convert an array of probabilities from 0-1 into binary classifications of 0 or 1."
   ]
  },
  {
   "cell_type": "code",
   "execution_count": 3,
   "metadata": {},
   "outputs": [
    {
     "name": "stdout",
     "output_type": "stream",
     "text": [
      "probabilities [0.1 0.2 0.4 0.6 0.8]\n",
      "classifications [0 0 0 1 1]\n"
     ]
    }
   ],
   "source": [
    "probabilities = np.array([0.1, 0.2, 0.4, 0.6, 0.8])\n",
    "classifications = np.where(probabilities > 0.5, 1, 0)\n",
    "print('probabilities', probabilities)\n",
    "print('classifications', classifications)"
   ]
  },
  {
   "cell_type": "code",
   "execution_count": null,
   "metadata": {},
   "outputs": [],
   "source": []
  }
 ],
 "metadata": {
  "kernelspec": {
   "display_name": "Python 3",
   "language": "python",
   "name": "python3"
  },
  "language_info": {
   "codemirror_mode": {
    "name": "ipython",
    "version": 3
   },
   "file_extension": ".py",
   "mimetype": "text/x-python",
   "name": "python",
   "nbconvert_exporter": "python",
   "pygments_lexer": "ipython3",
   "version": "3.7.4"
  }
 },
 "nbformat": 4,
 "nbformat_minor": 2
}
