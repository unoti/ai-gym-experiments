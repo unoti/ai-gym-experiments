{
 "cells": [
  {
   "cell_type": "markdown",
   "metadata": {},
   "source": [
    "# Priority Replay"
   ]
  },
  {
   "cell_type": "markdown",
   "metadata": {},
   "source": [
    "[Prioritized Experience Replay](https://arxiv.org/pdf/1511.05952.pdf) Tom Schaul, John Quan, Ioannis Antonoglou and David Silver\n"
   ]
  },
  {
   "cell_type": "markdown",
   "metadata": {},
   "source": [
    "## Sampling with probability\n",
    "\n",
    "We need to prioritize memory replay with the following requirements:\n",
    " * Memories are stored with a relative priority\n",
    " * There is an upper limit to the priorities stored in memory, and things of lower priority fall off the buttom when the memory is full\n",
    " * We can sample the memories, and the probability of any given item being selected is proportional to its priority\n",
    " * Things with lower priority still have a chance of being selected\n",
    " * Memories will get pulled out of the memory pile, then put back in based on their new updated priorities\n"
   ]
  },
  {
   "cell_type": "code",
   "execution_count": null,
   "metadata": {
    "collapsed": true
   },
   "outputs": [],
   "source": [
    "class ProbabilityBag:\n",
    "    def __init__(self, max_size):\n",
    "        pass\n",
    "    \n",
    "    def pop_batch(self, n):\n",
    "        \"\"\"Remove a randomly selected batch of n items from the bag.  The probability\n",
    "        of an item being selected is proportional to its priority.\n",
    "        \"\"\"\n",
    "        \n",
    "    def push_batch(self, items):\n",
    "        \"\"\"Insert a group of items.  The priority of each item is the first member of the tuple.\n",
    "        Example:\n",
    "            item = (priority, state, action, reward)\n",
    "            items = [item]\n",
    "            probability_bag.push_batch(items)\n",
    "        \"\"\""
   ]
  }
 ],
 "metadata": {
  "kernelspec": {
   "display_name": "Python [conda root]",
   "language": "python",
   "name": "conda-root-py"
  },
  "language_info": {
   "codemirror_mode": {
    "name": "ipython",
    "version": 3
   },
   "file_extension": ".py",
   "mimetype": "text/x-python",
   "name": "python",
   "nbconvert_exporter": "python",
   "pygments_lexer": "ipython3",
   "version": "3.5.6"
  }
 },
 "nbformat": 4,
 "nbformat_minor": 1
}
