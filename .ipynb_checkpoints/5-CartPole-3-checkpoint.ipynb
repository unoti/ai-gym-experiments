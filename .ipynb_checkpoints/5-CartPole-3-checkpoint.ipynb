{
 "cells": [
  {
   "cell_type": "code",
   "execution_count": 3,
   "metadata": {
    "collapsed": true
   },
   "outputs": [],
   "source": [
    "import numpy as np\n",
    "import gym\n",
    "from util import log_progress, histogram\n",
    "import matplotlib.pyplot as plt\n",
    "import numpy as np"
   ]
  },
  {
   "cell_type": "code",
   "execution_count": 4,
   "metadata": {
    "collapsed": false
   },
   "outputs": [
    {
     "name": "stderr",
     "output_type": "stream",
     "text": [
      "[2019-11-22 13:24:36,933] Making new env: CartPole-v1\n"
     ]
    }
   ],
   "source": [
    "env = gym.make('CartPole-v1')\n",
    "observation = env.reset()"
   ]
  },
  {
   "cell_type": "code",
   "execution_count": 5,
   "metadata": {
    "collapsed": true
   },
   "outputs": [],
   "source": [
    "def plot_episode_lengths(episode_lengths, epsilons):\n",
    "    # Plot the episode length over time\n",
    "    fig1 = plt.figure(figsize=(10,5))\n",
    "    plt.subplot(211)\n",
    "    plt.plot(episode_lengths)\n",
    "    plt.xlabel(\"Episode\")\n",
    "    plt.ylabel(\"Episode Length\")\n",
    "    plt.title(\"Episode Length over Time\")\n",
    "    \n",
    "    plt.subplot(212)\n",
    "    plt.plot(epsilons)\n",
    "    plt.show(fig1)"
   ]
  },
  {
   "cell_type": "code",
   "execution_count": 6,
   "metadata": {
    "collapsed": false
   },
   "outputs": [],
   "source": [
    "from keras.models import Sequential\n",
    "from keras.layers import Dense # Dropout, BatchNormalization\n",
    "from keras.optimizers import Adam\n",
    "\n",
    "class Approximator:\n",
    "    \"\"\"A function approximator implemented with a deep neural net.\"\"\"\n",
    "    def __init__(self, num_inputs, num_outputs, learning_rate=0.01):\n",
    "        self.model = Sequential()\n",
    "        self.model.add(Dense(64, input_shape=(num_inputs,), activation='relu'))\n",
    "        #self.model.add(Dense(64, activation='relu'))\n",
    "        self.model.add(Dense(64, activation='relu'))\n",
    "        self.model.add(Dense(num_outputs, activation='linear'))\n",
    "\n",
    "        adam = Adam(lr=learning_rate, beta_1=0.9, beta_2=0.999, epsilon=1e-08, decay=0.0)\n",
    "        self.model.compile(optimizer=adam, loss='mse', metrics=['accuracy','mse'])\n",
    "\n",
    "    def predict_multi(self, X_batch):\n",
    "        \"\"\"Predict the outputs for multiple input values at once.\n",
    "        X_batch: an np array of m number of X values to predict, of shape (num_inputs, m)\n",
    "        where m is the number of items you'd like to predict.\n",
    "        \"\"\"\n",
    "        return self.model.predict(X_batch)\n",
    "    \n",
    "    def train_multi(self, X, Y, batch_size=16, epochs=1, verbose=0):\n",
    "        \"\"\"\n",
    "        Train the model with m samples.\n",
    "        X: the input values, of shape (num_inputs, m)\n",
    "        Y: the target values, of shape (num_outputs, m)\n",
    "        \"\"\"\n",
    "        return self.model.fit(X, Y, epochs=epochs, batch_size=batch_size, verbose=verbose)\n",
    "    \n",
    "    def predict(self, X):\n",
    "        \"\"\"Predict a single output given a single input.\n",
    "        X: one set of X values to predict. X shape is (num_inputs,).\n",
    "        \"\"\"\n",
    "        predictions = self.predict_multi(np.array([X])) # An array for m input values.\n",
    "        return predictions[0] # We have a batch size of one here; return the first.\n",
    "    \n",
    "    def train(self, X, Y):\n",
    "        \"\"\"Train a single input/output pair.\n",
    "        X: inputs of shape (num_inputs,)\n",
    "        Y: target outputs of shape (num_outputs,)\"\"\"\n",
    "        batch_X = np.array([X])\n",
    "        batch_Y = np.array([Y])\n",
    "        self.train_multi(batch_X, batch_Y, batch_size=1)"
   ]
  },
  {
   "cell_type": "code",
   "execution_count": 7,
   "metadata": {
    "collapsed": false
   },
   "outputs": [
    {
     "data": {
      "text/plain": [
       "array([[ 0.07639673,  0.55625844],\n",
       "       [-0.14834023,  0.16520333]], dtype=float32)"
      ]
     },
     "execution_count": 7,
     "metadata": {},
     "output_type": "execute_result"
    }
   ],
   "source": [
    "ap = Approximator(num_inputs=4, num_outputs=2)\n",
    "X = np.array([[1,2,3,4], [1,1,1,1]])\n",
    "ap.predict_multi(X)"
   ]
  },
  {
   "cell_type": "markdown",
   "metadata": {},
   "source": [
    "Now train the output for 1234 to be closer to -4,5:"
   ]
  },
  {
   "cell_type": "code",
   "execution_count": 8,
   "metadata": {
    "collapsed": true
   },
   "outputs": [],
   "source": [
    "ap.train(np.array([1,2,3,4]), np.array([-4, 5]))"
   ]
  },
  {
   "cell_type": "code",
   "execution_count": 9,
   "metadata": {
    "collapsed": false
   },
   "outputs": [
    {
     "data": {
      "text/plain": [
       "array([-0.65417737,  1.82559061], dtype=float32)"
      ]
     },
     "execution_count": 9,
     "metadata": {},
     "output_type": "execute_result"
    }
   ],
   "source": [
    "ap.predict(np.array([1,2,3,4]))"
   ]
  },
  {
   "cell_type": "code",
   "execution_count": 33,
   "metadata": {
    "collapsed": true
   },
   "outputs": [],
   "source": [
    "class Agent:\n",
    "    def __init__(self, env, policy):\n",
    "        self.env = env\n",
    "        self.policy = policy\n",
    "    \n",
    "    def run_episode(self, render=False):\n",
    "        episode = [] # prev_state, prev_action, reward, state, done\n",
    "        state = env.reset()\n",
    "        action = None\n",
    "        while True:\n",
    "            prev_state = state\n",
    "            prev_action = action\n",
    "            action = self.policy.suggest_action(state)\n",
    "            state, reward, done, _ = env.step(action)\n",
    "            episode.append((prev_state, prev_action, reward, state, done))\n",
    "            self.policy.step_completed(prev_state, prev_action, reward, state, done)\n",
    "            if render:\n",
    "                self.env.render()\n",
    "            if done:\n",
    "                break\n",
    "        return episode\n",
    "    \n",
    "    def train(self, episodes=100, render=False, epsilon_start=1.0, epsilon_min = 0.01, epsilon_decay=0.995):\n",
    "        episode_lengths = []\n",
    "        epsilons = []\n",
    "        \n",
    "        epsilon_orig = agent.policy.epsilon # Save the original epsilon, in case we want to do external things with agent later.\n",
    "        agent.policy.epsilon = epsilon_start\n",
    "        \n",
    "        for i in log_progress(range(episodes), name='Episodes'):\n",
    "            episode = self.run_episode(render=render)\n",
    "            episode_lengths.append(len(episode))\n",
    "            epsilons.append(agent.policy.epsilon)\n",
    "            agent.policy.episode_completed(episode)\n",
    "            \n",
    "        plot_episode_lengths(episode_lengths, epsilons)\n",
    "        print('Max length=%f avg=%f' % (np.max(episode_lengths), np.mean(episode_lengths)))\n",
    "        \n",
    "        agent.policy.epsilon = epsilon_orig # Restore epsilon."
   ]
  },
  {
   "cell_type": "code",
   "execution_count": 70,
   "metadata": {
    "collapsed": false
   },
   "outputs": [],
   "source": [
    "from collections import deque\n",
    "import random\n",
    "\n",
    "class QLearningPolicy:            \n",
    "    def __init__(self, env, learning_rate=0.001, epsilon_start=1, epsilon_min=0.01, epsilon_decay=0.995,\n",
    "                 gamma=0.95, snapshots=1000000, batch_size=20):\n",
    "        \"\"\"epsilon: probability of exploring by selecting a random action\n",
    "        gamma: Discount factor for future rewards. Between 0 - 1.\n",
    "        learning_rate: learning rate for the approximator\n",
    "        \"\"\"\n",
    "        self.env = env\n",
    "        self.epsilon = epsilon_start\n",
    "        self.epsilon_min = epsilon_min\n",
    "        self.epsilon_decay = epsilon_decay\n",
    "        self.gamma = gamma # Discount factor for future rewards.\n",
    "        self.snapshots = deque(maxlen=snapshots) # [(prev_state, prev_action, reward, next_state, done)]\n",
    "        num_inputs = self.env.observation_space.shape[0] # 4\n",
    "        num_outputs = self.env.action_space.n # 2\n",
    "        self.model = Approximator(num_inputs, num_outputs, learning_rate)\n",
    "        self.batch_size = batch_size\n",
    "\n",
    "    def suggest_action(self, state, epsilon=None):\n",
    "        if epsilon == None:\n",
    "            epsilon = self.epsilon\n",
    "        if np.random.uniform() <= epsilon:\n",
    "            return self.env.action_space.sample()\n",
    "\n",
    "        rewards_all = self.model.predict(state) # Rewards for all possible actions\n",
    "        action = np.argmax(rewards_all) # Index of the action having the highest rewards.\n",
    "        return action\n",
    "\n",
    "    def step_completed(self, prev_state, prev_action, reward, state, done):\n",
    "        # Decay epsilon\n",
    "        self.epsilon = max(self.epsilon_min, self.epsilon * self.epsilon_decay)\n",
    "        \n",
    "        # Save this activity for experience replay.\n",
    "        self.snapshots.append((prev_state, prev_action, reward, state, done))\n",
    "        \n",
    "        if len(self.snapshots) >= self.batch_size:\n",
    "            # Replay a batch of experiences.  This shuffles them so we don't train on a bunch of similar\n",
    "            # states all at once (temporal separation).\n",
    "            steps = random.sample(self.snapshots, self.batch_size)\n",
    "            X = []\n",
    "            Y = []\n",
    "            for (prev_state, prev_action, reward, state, done) in steps:\n",
    "                X.append(prev_state)\n",
    "                rewards_all = self.model.predict(prev_state)\n",
    "                if done:\n",
    "                    future_rewards = 0\n",
    "                else:\n",
    "                    future_rewards = np.max(self.model.predict(state))\n",
    "                target_reward = reward + self.gamma * future_rewards\n",
    "                rewards_all[prev_action] = target_reward\n",
    "                Y.append(rewards_all)\n",
    "            X = np.stack(X) # Convert plain python list into a matrix with one row per item.\n",
    "            Y = np.stack(Y)\n",
    "            self.model.train_multi(X, Y, batch_size=self.batch_size)\n",
    "    \n",
    "    def episode_completed(self, episode):\n",
    "        pass\n"
   ]
  },
  {
   "cell_type": "code",
   "execution_count": null,
   "metadata": {
    "collapsed": false
   },
   "outputs": [],
   "source": [
    "agent = Agent(env, QLearningPolicy(env))\n",
    "agent.train(episodes=170)"
   ]
  },
  {
   "cell_type": "code",
   "execution_count": 67,
   "metadata": {
    "collapsed": false
   },
   "outputs": [
    {
     "data": {
      "image/png": "[encoded data removed]",
      "text/plain": [
       "<Figure size 720x360 with 2 Axes>"
      ]
     },
     "metadata": {},
     "output_type": "display_data"
    },
    {
     "name": "stdout",
     "output_type": "stream",
     "text": [
      "Max length=276.000000 avg=12.882000\n"
     ]
    }
   ],
   "source": [
    "agent.train(episodes=2000)"
   ]
  },
  {
   "cell_type": "code",
   "execution_count": 68,
   "metadata": {
    "collapsed": false
   },
   "outputs": [
    {
     "data": {
      "image/png": "[encoded data removed]",
      "text/plain": [
       "<Figure size 720x360 with 2 Axes>"
      ]
     },
     "metadata": {},
     "output_type": "display_data"
    },
    {
     "name": "stdout",
     "output_type": "stream",
     "text": [
      "Max length=120.000000 avg=13.730000\n"
     ]
    }
   ],
   "source": [
    "agent.train(episodes=300, epsilon_start=0.1)"
   ]
  },
  {
   "cell_type": "code",
   "execution_count": 69,
   "metadata": {
    "collapsed": false
   },
   "outputs": [
    {
     "data": {
      "text/plain": [
       "array([ 157.91218567,  171.70553589], dtype=float32)"
      ]
     },
     "execution_count": 69,
     "metadata": {},
     "output_type": "execute_result"
    }
   ],
   "source": [
    "def peek():\n",
    "    state = env.reset()\n",
    "    return agent.policy.model.predict(state)\n",
    "peek()"
   ]
  },
  {
   "cell_type": "code",
   "execution_count": null,
   "metadata": {
    "collapsed": true
   },
   "outputs": [],
   "source": []
  }
 ],
 "metadata": {
  "anaconda-cloud": {},
  "kernelspec": {
   "display_name": "Python [conda root]",
   "language": "python",
   "name": "conda-root-py"
  },
  "language_info": {
   "codemirror_mode": {
    "name": "ipython",
    "version": 3
   },
   "file_extension": ".py",
   "mimetype": "text/x-python",
   "name": "python",
   "nbconvert_exporter": "python",
   "pygments_lexer": "ipython3",
   "version": "3.5.6"
  },
  "widgets": {
   "state": {
    "7ac83842ac8a4519a28adfbf884e4aa8": {
     "views": [
      {
       "cell_index": 12
      }
     ]
    },
    "bdc90cd92a234f47adeeee8289303b8b": {
     "views": [
      {
       "cell_index": 11
      }
     ]
    },
    "bf394ed1e6d34cdea8c925b67735fbde": {
     "views": [
      {
       "cell_index": 10
      }
     ]
    }
   },
   "version": "1.2.0"
  }
 },
 "nbformat": 4,
 "nbformat_minor": 1
}
