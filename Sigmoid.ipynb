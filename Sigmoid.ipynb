{
 "cells": [
  {
   "cell_type": "markdown",
   "metadata": {},
   "source": [
    "## The Beautiful Sigmoid\n",
    "The *sigmoid* function appears all the time in data science, ai, and statistics, and is defined like this:\n",
    "\n",
    "$$ f(x) =  \\frac{\\mathrm{1} }{\\mathrm{1} + e^{-x} }  $$ \n",
    "\n",
    "Let's do these things briefly:\n",
    " * Define sigmoid in python\n",
    " * Graph it\n",
    " * Look at its characteristics\n",
    " * Look at why sigmoid is so useful\n",
    "\n",
    "### Sigmoid in Numpy"
   ]
  },
  {
   "cell_type": "code",
   "execution_count": 10,
   "metadata": {},
   "outputs": [],
   "source": [
    "import numpy as np\n",
    "import matplotlib.pyplot as plt"
   ]
  },
  {
   "cell_type": "code",
   "execution_count": 4,
   "metadata": {},
   "outputs": [],
   "source": [
    "def sigmoid(x):\n",
    "    return 1 / (1 + np.exp(-x))"
   ]
  },
  {
   "cell_type": "code",
   "execution_count": 5,
   "metadata": {},
   "outputs": [
    {
     "data": {
      "text/plain": [
       "(0.31002551887238755, 0.5, 1.0)"
      ]
     },
     "execution_count": 5,
     "metadata": {},
     "output_type": "execute_result"
    }
   ],
   "source": [
    "sigmoid(-0.8), sigmoid(0), sigmoid(42)"
   ]
  },
  {
   "cell_type": "code",
   "execution_count": 11,
   "metadata": {},
   "outputs": [],
   "source": [
    "def plot_fn(f, start, end, point_count = 100):\n",
    "    x = np.linspace(start, end, point_count)\n",
    "    y = f(x)\n",
    "    plt.plot(x, y)\n",
    "    plt.show()"
   ]
  },
  {
   "cell_type": "code",
   "execution_count": 12,
   "metadata": {},
   "outputs": [
    {
     "data": {
      "image/png": "[encoded data removed]",
      "text/plain": [
       "<Figure size 432x288 with 1 Axes>"
      ]
     },
     "metadata": {
      "needs_background": "light"
     },
     "output_type": "display_data"
    }
   ],
   "source": [
    "plot_fn(sigmoid, -5, 5)"
   ]
  },
  {
   "cell_type": "markdown",
   "metadata": {},
   "source": [
    "### Sigmoid's characteristics\n",
    "* Its output ranges from 0.0 to 1.0\n",
    "* At zero it is exactly 0.5\n",
    "* Most of its variation happens near zero"
   ]
  },
  {
   "cell_type": "code",
   "execution_count": 13,
   "metadata": {},
   "outputs": [
    {
     "data": {
      "image/png": "[encoded data removed]",
      "text/plain": [
       "<Figure size 432x288 with 1 Axes>"
      ]
     },
     "metadata": {
      "needs_background": "light"
     },
     "output_type": "display_data"
    }
   ],
   "source": [
    "plot_fn(sigmoid, -20, 20)"
   ]
  },
  {
   "cell_type": "markdown",
   "metadata": {},
   "source": [
    "### Intuition about Sigmoid\n",
    "$$ f(x) =  \\frac{\\mathrm{1} }{\\mathrm{1} + e^{-x} }  $$ \n",
    "\n",
    "* When *x* is a very large **negative** number, the **denominator** becomes a very large number approaching infinity\n",
    "* When *x* is a very large **positive** number, the value added to one in the denominator becomes vanishingly small, so the overall value approaches 1 in the limit\n",
    "* When *x* is zero, the value is exactly 1/2.\n",
    "* You can think of a sigmoid as being the accumulation of a gaussian distribution"
   ]
  },
  {
   "cell_type": "markdown",
   "metadata": {},
   "source": [
    "### Usefulness of Sigmoid\n",
    "There are many kinds of data where there is a big range of possible values, but in reality most of the variation comes around a single area.  For example, say you're analyzing all your financial transactions.  On average when you spend money the amount spent is under $100 (buying gas, buying food, etc.).  But occasionally you make a car payment or buy a house, and the amount is very large.\n",
    "\n",
    "If you wanted to do analysis on this data, running the purchase amount through a sigmoid is probably a good idea, because it gives you more resolution around the midpoint, and less resolution out on the ends."
   ]
  },
  {
   "cell_type": "code",
   "execution_count": null,
   "metadata": {},
   "outputs": [],
   "source": []
  }
 ],
 "metadata": {
  "kernelspec": {
   "display_name": "Python 3",
   "language": "python",
   "name": "python3"
  },
  "language_info": {
   "codemirror_mode": {
    "name": "ipython",
    "version": 3
   },
   "file_extension": ".py",
   "mimetype": "text/x-python",
   "name": "python",
   "nbconvert_exporter": "python",
   "pygments_lexer": "ipython3",
   "version": "3.7.4"
  }
 },
 "nbformat": 4,
 "nbformat_minor": 2
}
