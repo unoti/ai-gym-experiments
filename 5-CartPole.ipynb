{
 "cells": [
  {
   "cell_type": "markdown",
   "metadata": {},
   "source": [
    "# The Cart Pole Environment\n",
    "Let's take what we've learned and try it out on the [Cart Pole environment](https://gym.openai.com/envs/CartPole-v1/)."
   ]
  },
  {
   "cell_type": "code",
   "execution_count": 1,
   "metadata": {
    "collapsed": true
   },
   "outputs": [],
   "source": [
    "import numpy as np\n",
    "import gym\n",
    "from util import log_progress"
   ]
  },
  {
   "cell_type": "code",
   "execution_count": 2,
   "metadata": {
    "collapsed": false
   },
   "outputs": [
    {
     "name": "stderr",
     "output_type": "stream",
     "text": [
      "[2019-11-21 08:14:00,698] Making new env: CartPole-v1\n"
     ]
    }
   ],
   "source": [
    "env = gym.make('CartPole-v1')\n",
    "observation = env.reset()\n",
    "env.render()"
   ]
  },
  {
   "cell_type": "code",
   "execution_count": 3,
   "metadata": {
    "collapsed": true
   },
   "outputs": [],
   "source": [
    "env.close()"
   ]
  },
  {
   "cell_type": "markdown",
   "metadata": {},
   "source": [
    "![image.png](attachment:image.png)"
   ]
  },
  {
   "cell_type": "markdown",
   "metadata": {},
   "source": [
    "The idea here is there's a cart you can move left or right, and a pole mounted to a joint.  The agent gets rewards each step the pole is above center.  The episode ends if the cart moves too far to the left or right, or if the pole gets more than 15 degrees from vertical.\n",
    "\n",
    "Let's set up some supporting infrastructure to run an agent:\n",
    " * **Episode** will store the history of everything that happened in one episode, which we can use later for *experience replay* training.\n",
    " * **Policy** is a class we'll use that will make all the decisions for an agent. We'll start by implementing a minimal policy that makes random decisions. Later we'll make a better policy class.\n",
    " * **Agent** is everything else that an agent needs to do other than thinking and remembering."
   ]
  },
  {
   "cell_type": "code",
   "execution_count": 4,
   "metadata": {
    "collapsed": true
   },
   "outputs": [],
   "source": [
    "class RandomPolicy:            \n",
    "    def __init__(self, env):\n",
    "        self.env = env\n",
    "\n",
    "    def suggest_action(self, state):\n",
    "        return self.env.action_space.sample()\n",
    "    \n",
    "    def update_step(self, prev_state, prev_action, reward, state, action):\n",
    "        pass"
   ]
  },
  {
   "cell_type": "code",
   "execution_count": 20,
   "metadata": {
    "collapsed": true
   },
   "outputs": [],
   "source": [
    "class Agent:\n",
    "    def __init__(self, env, policy):\n",
    "        self.env = env\n",
    "        self.policy = policy\n",
    "    \n",
    "    def run_episode(self, render=False):\n",
    "        episode = [] # prev_state, prev_action, reward, state, done\n",
    "        state = env.reset()\n",
    "        action = None\n",
    "        while True:\n",
    "            prev_state = state\n",
    "            prev_action = action\n",
    "            action = self.policy.suggest_action(state)\n",
    "            state, reward, done, _ = env.step(action)\n",
    "            episode.append((prev_state, prev_action, reward, state, done))\n",
    "            if render:\n",
    "                self.env.render()\n",
    "            if done:\n",
    "                break\n",
    "        return episode\n",
    "    \n",
    "    def train(self, episodes=100, render=False, epsilon_start=1.0, epsilon_min = 0.01, epsilon_decay=0.99):\n",
    "        episode_lengths = []\n",
    "        \n",
    "        epsilon_orig = agent.policy.epsilon # Save the original epsilon, in case we want to do external things with agent later.\n",
    "        agent.policy.epsilon = epsilon_start\n",
    "        \n",
    "        for i in log_progress(range(episodes), name='Episodes'):\n",
    "            episode = self.run_episode(render=render)\n",
    "            episode_lengths.append(len(episode))\n",
    "            agent.policy.episode_completed(episode)\n",
    "            agent.policy.epsilon = max(agent.policy.epsilon * epsilon_decay, epsilon_min) # Decay epsilon, but not below minimum.\n",
    "            \n",
    "        plot_episode_lengths(episode_lengths)\n",
    "        print('Max length=%f avg=%f' % (np.max(episode_lengths), np.mean(episode_lengths)))\n",
    "        \n",
    "        agent.policy.epsilon = epsilon_orig # Restore epsilon."
   ]
  },
  {
   "cell_type": "code",
   "execution_count": 22,
   "metadata": {
    "collapsed": true
   },
   "outputs": [],
   "source": [
    "import matplotlib.pyplot as plt\n",
    "def plot_episode_lengths(episode_lengths):\n",
    "    # Plot the episode length over time\n",
    "    fig1 = plt.figure(figsize=(10,5))\n",
    "    plt.plot(episode_lengths)\n",
    "    plt.xlabel(\"Episode\")\n",
    "    plt.ylabel(\"Episode Length\")\n",
    "    plt.title(\"Episode Length over Time\")\n",
    "    plt.show(fig1)"
   ]
  },
  {
   "cell_type": "markdown",
   "metadata": {},
   "source": [
    "We've got a working version of our basic infrastructure that handles everything other than the thinking and learning.  Let's try it out."
   ]
  },
  {
   "cell_type": "code",
   "execution_count": 7,
   "metadata": {
    "collapsed": true
   },
   "outputs": [],
   "source": [
    "agent = Agent(env, RandomPolicy(env))\n",
    "episode = agent.run_episode(render=True)"
   ]
  },
  {
   "cell_type": "code",
   "execution_count": 9,
   "metadata": {
    "collapsed": true
   },
   "outputs": [],
   "source": [
    "env.close()"
   ]
  },
  {
   "cell_type": "markdown",
   "metadata": {},
   "source": [
    "# Learning"
   ]
  },
  {
   "cell_type": "markdown",
   "metadata": {},
   "source": [
    "Now that we have our basic infrastructure done let's do some actual learning.  The actual learning breaks down into two main components:\n",
    " * Neural net function approximator\n",
    " * Q Learning Policy"
   ]
  },
  {
   "cell_type": "markdown",
   "metadata": {},
   "source": [
    "## Neural Net\n",
    "We're going to need a function approximator. We'll use a neural net for that using the approach desribed in notebook 3, *Neural Net Approximation*.  We will put the function approximator in its own class, because this is a switchable component.  Neural nets are just one way of doing function approximation, and we might want to try some other ways.  It's also nice to keep the function approximation code separate from the Q learning code, to keep the different parts of the code easier to understand.  Plus, keeping them separate makes it easier to test and improve the components  separately from each other.\n",
    "\n",
    "For example, I think I might want to add dropout and L2 regularization to the neural network later.  Having it as a separate component lets me do that and compare the results of the improved approximator versus the vanilla approximator."
   ]
  },
  {
   "cell_type": "code",
   "execution_count": 16,
   "metadata": {
    "collapsed": false
   },
   "outputs": [],
   "source": [
    "from keras.models import Sequential\n",
    "from keras.layers import Dense # Dropout, BatchNormalization\n",
    "from keras.optimizers import Adam\n",
    "\n",
    "class Approximator:\n",
    "    \"\"\"A function approximator implemented with a deep neural net.\"\"\"\n",
    "    def __init__(self, num_inputs, num_outputs, learning_rate=0.01):\n",
    "        self.model = Sequential()\n",
    "        self.model.add(Dense(32, input_shape=(num_inputs,), activation='relu'))\n",
    "        #self.model.add(Dense(64, activation='relu'))\n",
    "        self.model.add(Dense(64, activation='relu'))\n",
    "        self.model.add(Dense(num_outputs, activation='linear'))\n",
    "\n",
    "        adam = Adam(lr=0.011, beta_1=0.9, beta_2=0.999, epsilon=1e-08, decay=0.0)\n",
    "        self.model.compile(optimizer=adam, loss='mse', metrics=['mse'])\n",
    "\n",
    "    def predict_multi(self, X_batch):\n",
    "        \"\"\"Predict the outputs for multiple input values at once.\n",
    "        X_batch: an np array of m number of X values to predict, of shape (num_inputs, m)\n",
    "        where m is the number of items you'd like to predict.\n",
    "        \"\"\"\n",
    "        return self.model.predict(X_batch)\n",
    "    \n",
    "    def train_multi(self, X, Y, batch_size=16, epochs=1, verbose=0):\n",
    "        \"\"\"\n",
    "        Train the model with m samples.\n",
    "        X: the input values, of shape (num_inputs, m)\n",
    "        Y: the target values, of shape (num_outputs, m)\n",
    "        \"\"\"\n",
    "        self.model.fit(X, Y, epochs=epochs, batch_size=batch_size, verbose=verbose)\n",
    "    \n",
    "    def predict(self, X):\n",
    "        \"\"\"Predict a single output given a single input.\n",
    "        X: one set of X values to predict. X shape is (num_inputs,).\n",
    "        \"\"\"\n",
    "        predictions = self.predict_multi(np.array([X])) # An array for m input values.\n",
    "        return predictions[0] # We're just doing one here.\n",
    "    \n",
    "    def train(self, X, Y):\n",
    "        \"\"\"Train a single input/output pair.\n",
    "        X: inputs of shape (num_inputs,)\n",
    "        Y: target outputs of shape (num_outputs,)\"\"\"\n",
    "        batch_X = np.array([X])\n",
    "        batch_Y = np.array([Y])\n",
    "        self.train_multi(batch_X, batch_Y, batch_size=1)"
   ]
  },
  {
   "cell_type": "code",
   "execution_count": 7,
   "metadata": {
    "collapsed": false
   },
   "outputs": [
    {
     "data": {
      "text/plain": [
       "array([[ 0.60985351,  0.01653407],\n",
       "       [ 0.2720139 , -0.00404276]], dtype=float32)"
      ]
     },
     "execution_count": 7,
     "metadata": {},
     "output_type": "execute_result"
    }
   ],
   "source": [
    "ap = Approximator(num_inputs=4, num_outputs=2)\n",
    "X = np.array([[1,2,3,4], [1,1,1,1]])\n",
    "ap.predict_multi(X)"
   ]
  },
  {
   "cell_type": "code",
   "execution_count": 8,
   "metadata": {
    "collapsed": false
   },
   "outputs": [
    {
     "data": {
      "text/plain": [
       "array([ 0.60985333,  0.016534  ], dtype=float32)"
      ]
     },
     "execution_count": 8,
     "metadata": {},
     "output_type": "execute_result"
    }
   ],
   "source": [
    "ap.predict(np.array([1,2,3,4]))"
   ]
  },
  {
   "cell_type": "markdown",
   "metadata": {},
   "source": [
    "Now we'll train the outputs to be closer to [9,12]:"
   ]
  },
  {
   "cell_type": "code",
   "execution_count": 9,
   "metadata": {
    "collapsed": true
   },
   "outputs": [],
   "source": [
    "ap.train(np.array([1,2,3,4]), np.array([9, 12]))"
   ]
  },
  {
   "cell_type": "code",
   "execution_count": 10,
   "metadata": {
    "collapsed": false
   },
   "outputs": [
    {
     "data": {
      "text/plain": [
       "array([ 1.64807618,  0.59816653], dtype=float32)"
      ]
     },
     "execution_count": 10,
     "metadata": {},
     "output_type": "execute_result"
    }
   ],
   "source": [
    "ap.predict(np.array([1,2,3,4]))"
   ]
  },
  {
   "cell_type": "markdown",
   "metadata": {},
   "source": [
    "## To do\n",
    " - [ ] Shouldn't the current step number impact the expected sum of rewards from here?\n",
    " "
   ]
  },
  {
   "cell_type": "markdown",
   "metadata": {},
   "source": [
    "## Deep Q Learning"
   ]
  },
  {
   "cell_type": "code",
   "execution_count": 17,
   "metadata": {
    "collapsed": true
   },
   "outputs": [],
   "source": [
    "from collections import deque\n",
    "import random\n",
    "\n",
    "class DeepQPolicy:            \n",
    "    def __init__(self, env, learning_rate=0.001, epsilon=0.1, gamma=0.99, snapshots=1000, batch_size=256):\n",
    "        \"\"\"epsilon: probability of exploring by selecting a random action\n",
    "        gamma: Discount factor for future rewards. Between 0 - 1.\n",
    "        learning_rate: learning rate for the approximator\n",
    "        \"\"\"\n",
    "        self.env = env\n",
    "        self.epsilon = epsilon\n",
    "        self.gamma = gamma # Discount factor for future rewards.\n",
    "        self.action_list = list(range(self.env.action_space.n)) # All possible actions, like [0,1].\n",
    "        # Function approximator:\n",
    "        # Inputs: state\n",
    "        # Outputs: for each possible action, discounted sum of expected rewards\n",
    "        num_inputs = env.observation_space.shape[0]\n",
    "        num_outputs = len(self.action_list)\n",
    "        self.model = Approximator(num_inputs, num_outputs, learning_rate)\n",
    "        self.snapshots = deque(maxlen=snapshots)\n",
    "        self.batch_size = batch_size\n",
    "\n",
    "    def suggest_action(self, state, epsilon=None):\n",
    "        if epsilon == None:\n",
    "            epsilon = self.epsilon\n",
    "        if np.random.uniform() <= epsilon:\n",
    "            return self.env.action_space.sample()\n",
    "\n",
    "        rewards_by_state = self.model.predict(state) # One reward prediction for each possible action.\n",
    "        action = np.argmax(rewards_by_state) # Index of the best action.\n",
    "        return action\n",
    "\n",
    "    def update_step(self, prev_state, prev_action, reward, state):\n",
    "        \"\"\"Update the approximations of the reward function.\n",
    "        See Sutton p. 130 formula 6.7\n",
    "        \"\"\"\n",
    "        prev_rewards_all = self.model.predict(prev_state) # Rewards predicted for prev_state for all actions.\n",
    "        next_rewards_all = self.model.predict(state) # Rewards for all possible *next* actions.\n",
    "        next_rewards = np.max(next_rewards_all) # Rewards for the action we would take.\n",
    "        \n",
    "        q_target = reward + self.gamma * next_rewards # Our target value for prev_state for prev_action.\n",
    "        q_target_all = prev_rewards_all\n",
    "        q_target_all[prev_action] = q_target\n",
    "        self.model.train(prev_state, q_target_all)\n",
    "\n",
    "    def episode_completed(self, episode):\n",
    "        \"\"\"episode is a list of (prev_state, prev_action, reward, state, done)\"\"\"\n",
    "        \n",
    "        # Determine actual future rewards per step.\n",
    "        future_rewards_per_step = [] # This will start backwards then we'll reverse it\n",
    "        total_rewards = 0\n",
    "        for (prev_state, prev_action, reward, state, done) in reversed(episode):\n",
    "                future_rewards_per_step.append(total_rewards)\n",
    "                total_rewards += reward\n",
    "        future_rewards_per_step.reverse()\n",
    "        \n",
    "        # Train the network.\n",
    "        # They say it's better to sample randomly instead of training in sequence.\n",
    "        # Maybe we'll put that to the test later. For now, train all in sequence.\n",
    "        for i in range(len(episode)):\n",
    "            future_reward = future_rewards_per_step[i]\n",
    "            prev_state, prev_action, reward, state, done = episode[i]\n",
    "            self.snapshots.append((prev_state, prev_action, future_reward))\n",
    "\n",
    "        self.train_batch()\n",
    "    \n",
    "    def train_batch(self):\n",
    "        if len(self.snapshots) < self.batch_size:\n",
    "            return\n",
    "        \n",
    "        batch = random.sample(self.snapshots, self.batch_size)\n",
    "        X = [] # State inputs, one per row\n",
    "        Y = [] # Expected outputs per action, one per row\n",
    "        for prev_state, prev_action, future_reward in batch:\n",
    "            q_all = self.model.predict(prev_state)\n",
    "            q_all[prev_action] = future_reward\n",
    "            X.append(prev_state)\n",
    "            Y.append(q_all)\n",
    "        X = np.stack(X) # Convert list of m arrays of length n into an n x m matrix\n",
    "        Y = np.stack(Y)\n",
    "        #y_hat = self.model.predict(X[0]) # temp\n",
    "        self.model.train_multi(X, Y)\n",
    "        #y_hat2 = self.model.predict(X[0]) #temp\n",
    "        #print('X=',X[0])\n",
    "        #print('Y0',y_hat)\n",
    "        #print('Y1',y_hat2)\n",
    "        "
   ]
  },
  {
   "cell_type": "markdown",
   "metadata": {},
   "source": [
    "## Deep Learning Agent"
   ]
  },
  {
   "cell_type": "code",
   "execution_count": 25,
   "metadata": {
    "collapsed": false
   },
   "outputs": [
    {
     "data": {
      "image/png": "[encoded data removed]",
      "text/plain": [
       "<Figure size 720x360 with 1 Axes>"
      ]
     },
     "metadata": {},
     "output_type": "display_data"
    },
    {
     "name": "stdout",
     "output_type": "stream",
     "text": [
      "Max length=67.000000 avg=18.230000\n"
     ]
    }
   ],
   "source": [
    "agent = Agent(env, DeepQPolicy(env))\n",
    "agent.train(render=False, episodes=100)"
   ]
  },
  {
   "cell_type": "code",
   "execution_count": 43,
   "metadata": {
    "collapsed": false
   },
   "outputs": [
    {
     "data": {
      "text/plain": [
       "array([ 12.88468933,  15.39172268], dtype=float32)"
      ]
     },
     "execution_count": 43,
     "metadata": {},
     "output_type": "execute_result"
    }
   ],
   "source": [
    "def peek():\n",
    "    state = env.reset()\n",
    "    return agent.policy.model.predict(state)\n",
    "peek()"
   ]
  },
  {
   "cell_type": "code",
   "execution_count": 26,
   "metadata": {
    "collapsed": false
   },
   "outputs": [
    {
     "data": {
      "image/png": "[encoded data removed]",
      "text/plain": [
       "<Figure size 720x360 with 1 Axes>"
      ]
     },
     "metadata": {},
     "output_type": "display_data"
    },
    {
     "name": "stdout",
     "output_type": "stream",
     "text": [
      "Max length=91.000000 avg=15.496000\n"
     ]
    }
   ],
   "source": [
    "agent.train(render=False, episodes=500)"
   ]
  },
  {
   "cell_type": "code",
   "execution_count": 40,
   "metadata": {
    "collapsed": true
   },
   "outputs": [],
   "source": [
    "env.close()"
   ]
  },
  {
   "cell_type": "code",
   "execution_count": null,
   "metadata": {
    "collapsed": true
   },
   "outputs": [],
   "source": []
  }
 ],
 "metadata": {
  "anaconda-cloud": {},
  "kernelspec": {
   "display_name": "Python [default]",
   "language": "python",
   "name": "python3"
  },
  "language_info": {
   "codemirror_mode": {
    "name": "ipython",
    "version": 3
   },
   "file_extension": ".py",
   "mimetype": "text/x-python",
   "name": "python",
   "nbconvert_exporter": "python",
   "pygments_lexer": "ipython3",
   "version": "3.5.6"
  }
 },
 "nbformat": 4,
 "nbformat_minor": 2
}
