{
 "cells": [
  {
   "cell_type": "markdown",
   "metadata": {},
   "source": [
    "# The Cart Pole Environment\n",
    "Let's take what we've learned and try it out on the [Cart Pole environment](https://gym.openai.com/envs/CartPole-v1/)."
   ]
  },
  {
   "cell_type": "code",
   "execution_count": 1,
   "metadata": {
    "collapsed": true
   },
   "outputs": [],
   "source": [
    "import numpy as np\n",
    "import gym"
   ]
  },
  {
   "cell_type": "code",
   "execution_count": 2,
   "metadata": {
    "collapsed": false
   },
   "outputs": [
    {
     "name": "stderr",
     "output_type": "stream",
     "text": [
      "[2019-11-12 08:52:20,750] Making new env: CartPole-v1\n"
     ]
    }
   ],
   "source": [
    "env = gym.make('CartPole-v1')\n",
    "observation = env.reset()\n",
    "env.render()"
   ]
  },
  {
   "cell_type": "markdown",
   "metadata": {},
   "source": [
    "![image.png](attachment:image.png)"
   ]
  },
  {
   "cell_type": "markdown",
   "metadata": {},
   "source": [
    "The idea here is there's a cart you can move left or right, and a pole mounted to a joint.  The agent gets rewards each step the pole is above center.  The episode ends if the cart moves too far to the left or right, or if the pole gets more than 15 degrees from vertical.\n",
    "\n",
    "Let's bring in some of our earlier code and get a random agent going."
   ]
  },
  {
   "cell_type": "code",
   "execution_count": 33,
   "metadata": {
    "collapsed": true
   },
   "outputs": [],
   "source": [
    "env.close()"
   ]
  },
  {
   "cell_type": "code",
   "execution_count": 4,
   "metadata": {
    "collapsed": true
   },
   "outputs": [],
   "source": [
    "class Episode:\n",
    "    \"\"\"Tracks the history of what happened in a playthrough, which we can use for training.\"\"\"\n",
    "    def __init__(self):\n",
    "        self.steps = [] # For each time step, a tuple of (state, action, reward)\n",
    "        self.got_reward = False\n",
    "    \n",
    "    def record_step(self, state, action, reward):\n",
    "        step = (state, action, reward)\n",
    "        self.steps.append(step)\n",
    "        if reward > -1:\n",
    "            self.got_reward = True\n",
    "\n",
    "    def __len__(self):\n",
    "        return len(self.steps)\n",
    "            \n",
    "class RandomPolicy:            \n",
    "    def __init__(self, env):\n",
    "        self.env = env\n",
    "\n",
    "    def suggest_action(self, state):\n",
    "        return self.env.action_space.sample()\n",
    "    \n",
    "    def update_policy(self, episode):\n",
    "        pass\n",
    "    \n",
    "    def generalize(self, observation):\n",
    "        return observation\n",
    "            \n",
    "class Agent:\n",
    "    max_steps_per_episode = 1000\n",
    "    \n",
    "    def __init__(self, env, policy):\n",
    "        self.env = env\n",
    "        self.policy = policy\n",
    "    \n",
    "    def run_episode(self, render=False):\n",
    "        episode = Episode()\n",
    "        observation = env.reset()\n",
    "        for i in range(self.max_steps_per_episode):\n",
    "            state = self.policy.generalize(observation)\n",
    "            action = self.policy.suggest_action(state)\n",
    "            observation, reward, done, info = env.step(action)\n",
    "            episode.record_step(state, action, reward)\n",
    "            if render:\n",
    "                env.render()\n",
    "            if done:\n",
    "                break\n",
    "        return episode\n",
    "    \n",
    "    def train(self, episode_count):\n",
    "        \"\"\"Train for a number of episodes.  Returns a list of episode lengths.\"\"\"\n",
    "        training_history = []\n",
    "        for i in range(episode_count):\n",
    "            episode = self.run_episode()\n",
    "            self.policy.update_policy(episode)\n",
    "            training_history.append(len(episode))\n",
    "        return training_history\n",
    "\n",
    "rand_agent = Agent(env, RandomPolicy(env))"
   ]
  },
  {
   "cell_type": "code",
   "execution_count": 26,
   "metadata": {
    "collapsed": true
   },
   "outputs": [],
   "source": [
    "episode = rand_agent.run_episode(render=True)"
   ]
  },
  {
   "cell_type": "markdown",
   "metadata": {},
   "source": [
    "Let's look at our state space.  How many attributes are there in the state, and how many in the actions?"
   ]
  },
  {
   "cell_type": "code",
   "execution_count": 7,
   "metadata": {
    "collapsed": false
   },
   "outputs": [
    {
     "name": "stdout",
     "output_type": "stream",
     "text": [
      "Box(4,)\n",
      "[  4.80000000e+00   3.40282347e+38   4.18879020e-01   3.40282347e+38]\n",
      "[ -4.80000000e+00  -3.40282347e+38  -4.18879020e-01  -3.40282347e+38]\n"
     ]
    }
   ],
   "source": [
    "print(env.observation_space)\n",
    "print(env.observation_space.high)\n",
    "print(env.observation_space.low)"
   ]
  },
  {
   "cell_type": "code",
   "execution_count": 8,
   "metadata": {
    "collapsed": false
   },
   "outputs": [
    {
     "name": "stdout",
     "output_type": "stream",
     "text": [
      "Discrete(2)\n"
     ]
    }
   ],
   "source": [
    "print(env.action_space)"
   ]
  },
  {
   "cell_type": "markdown",
   "metadata": {},
   "source": [
    "So there are just 2 actions: move left and move right."
   ]
  },
  {
   "cell_type": "markdown",
   "metadata": {},
   "source": [
    "Let's look at that episode to see if we were getting any rewards at first."
   ]
  },
  {
   "cell_type": "code",
   "execution_count": 27,
   "metadata": {
    "collapsed": false
   },
   "outputs": [
    {
     "data": {
      "text/plain": [
       "[(array([ 0.01616606,  0.0289599 , -0.04844775, -0.02204392]), 0, 1.0),\n",
       " (array([ 0.01674525, -0.16543499, -0.04888863,  0.2549682 ]), 1, 1.0),\n",
       " (array([ 0.01343655,  0.03034966, -0.04378927, -0.05272543]), 0, 1.0),\n",
       " (array([ 0.01404355, -0.16411794, -0.04484377,  0.22582642]), 0, 1.0),\n",
       " (array([ 0.01076119, -0.35857126, -0.04032725,  0.50403353]), 0, 1.0),\n",
       " (array([ 0.00358976, -0.55310235, -0.03024658,  0.78373992]), 0, 1.0),\n",
       " (array([-0.00747228, -0.74779588, -0.01457178,  1.0667555 ]), 0, 1.0),\n",
       " (array([-0.0224282 , -0.94272203,  0.00676333,  1.35482973]), 1, 1.0),\n",
       " (array([-0.04128264, -0.74768561,  0.03385993,  1.0642702 ]), 0, 1.0),\n",
       " (array([-0.05623635, -0.94323898,  0.05514533,  1.36738504]), 1, 1.0),\n",
       " (array([-0.07510113, -0.74884896,  0.08249303,  1.09244776]), 1, 1.0),\n",
       " (array([-0.09007811, -0.55490513,  0.10434199,  0.82674677]), 0, 1.0),\n",
       " (array([-0.10117622, -0.75128733,  0.12087692,  1.15033889]), 0, 1.0),\n",
       " (array([-0.11620196, -0.94776129,  0.1438837 ,  1.47835074]), 1, 1.0),\n",
       " (array([-0.13515719, -0.75465925,  0.17345072,  1.23384678]), 1, 1.0),\n",
       " (array([-0.15025037, -0.56213849,  0.19812765,  1.00013797]), 1, 1.0)]"
      ]
     },
     "execution_count": 27,
     "metadata": {},
     "output_type": "execute_result"
    }
   ],
   "source": [
    "episode.steps"
   ]
  },
  {
   "cell_type": "markdown",
   "metadata": {},
   "source": [
    "The entries in steps are (*state, action, reward*) and we see 1.0's on the right, so yes, we were getting rewards.\n",
    "\n",
    "I expect that's because the pole is above the line.  Let's let it run a bit more and verify that the rewards go to zero when the pole drops below the line."
   ]
  },
  {
   "cell_type": "code",
   "execution_count": 8,
   "metadata": {
    "collapsed": false
   },
   "outputs": [
    {
     "data": {
      "text/plain": [
       "12"
      ]
     },
     "execution_count": 8,
     "metadata": {},
     "output_type": "execute_result"
    }
   ],
   "source": [
    "len(episode.steps)"
   ]
  },
  {
   "cell_type": "code",
   "execution_count": 9,
   "metadata": {
    "collapsed": true
   },
   "outputs": [],
   "source": [
    "episode = rand_agent.run_episode(render=True)"
   ]
  },
  {
   "cell_type": "code",
   "execution_count": 10,
   "metadata": {
    "collapsed": false
   },
   "outputs": [
    {
     "data": {
      "text/plain": [
       "32"
      ]
     },
     "execution_count": 10,
     "metadata": {},
     "output_type": "execute_result"
    }
   ],
   "source": [
    "len(episode.steps)"
   ]
  },
  {
   "cell_type": "markdown",
   "metadata": {},
   "source": [
    "The first time it did 12 steps, then it did 32 steps.  But it terminated.  Apparently what's going on here is that the episode terminates as soon as the pole drops below a particular angle."
   ]
  },
  {
   "cell_type": "markdown",
   "metadata": {},
   "source": [
    "## Generalizing State Space\n",
    "We've got 4 numbers in our state space, and the state range of those is pretty big."
   ]
  },
  {
   "cell_type": "code",
   "execution_count": 10,
   "metadata": {
    "collapsed": false
   },
   "outputs": [
    {
     "name": "stdout",
     "output_type": "stream",
     "text": [
      "[  4.80000000e+00   3.40282347e+38   4.18879020e-01   3.40282347e+38]\n",
      "[ -4.80000000e+00  -3.40282347e+38  -4.18879020e-01  -3.40282347e+38]\n"
     ]
    }
   ],
   "source": [
    "print(env.observation_space.high)\n",
    "print(env.observation_space.low)"
   ]
  },
  {
   "cell_type": "markdown",
   "metadata": {},
   "source": [
    "We want to break these spaces down into discrete buckets for this exercise. This is so that we take that infinite state space and drop it down to a smaller finite state space so we can track history on similar things and generalize.  Later we'll do that generalization using neural nets, but for now we're going to do something more basic.\n",
    "\n",
    "### The (overly) simple way\n",
    "We have 4 parameter features. The first one ranges from 4.8 to -4.8.  We can probably get away with breaking that up into 20 buckets that are equally spaced.  But looking at the example we had, it looks like it has a lot of activity concentrated around the 0.  If we naively cut 4.8 to -4.8 into 20 equally spaced spaces, what would the range look like around 0?"
   ]
  },
  {
   "cell_type": "code",
   "execution_count": 29,
   "metadata": {
    "collapsed": false
   },
   "outputs": [
    {
     "data": {
      "text/plain": [
       "0.48"
      ]
     },
     "execution_count": 29,
     "metadata": {},
     "output_type": "execute_result"
    }
   ],
   "source": [
    "range_start, range_end = -4.8, 4.8\n",
    "bucket_count = 20\n",
    "step_size = (range_end - range_start) / bucket_count\n",
    "step_size"
   ]
  },
  {
   "cell_type": "code",
   "execution_count": 30,
   "metadata": {
    "collapsed": false
   },
   "outputs": [
    {
     "data": {
      "text/plain": [
       "[-4.8,\n",
       " -4.32,\n",
       " -3.84,\n",
       " -3.36,\n",
       " -2.88,\n",
       " -2.4,\n",
       " -1.92,\n",
       " -1.44,\n",
       " -0.96,\n",
       " -0.47999999999999954,\n",
       " 0.0,\n",
       " 0.47999999999999954,\n",
       " 0.96,\n",
       " 1.4400000000000004,\n",
       " 1.92,\n",
       " 2.3999999999999995,\n",
       " 2.88,\n",
       " 3.3600000000000003,\n",
       " 3.8400000000000007,\n",
       " 4.319999999999999]"
      ]
     },
     "execution_count": 30,
     "metadata": {},
     "output_type": "execute_result"
    }
   ],
   "source": [
    "[range_start + x * step_size for x in range(bucket_count)]"
   ]
  },
  {
   "cell_type": "markdown",
   "metadata": {},
   "source": [
    "If you look above at our episode steps, you can see that all the action for the first parameter of our state observation was all concentrated in a small area around 0:"
   ]
  },
  {
   "cell_type": "code",
   "execution_count": 31,
   "metadata": {
    "collapsed": true
   },
   "outputs": [],
   "source": [
    "param0_obs = [step[0][0] for step in episode.steps]"
   ]
  },
  {
   "cell_type": "code",
   "execution_count": 23,
   "metadata": {
    "collapsed": true
   },
   "outputs": [],
   "source": [
    "import matplotlib.pyplot as plt\n",
    "\n",
    "def histogram(seq, bins=10, title='Histogram'):\n",
    "    plt.hist(seq, edgecolor = 'black', bins = bins)\n",
    "    plt.title(title)\n",
    "    plt.xlabel('Value')\n",
    "    plt.ylabel('Frequency')\n",
    "    plt.show()"
   ]
  },
  {
   "cell_type": "code",
   "execution_count": 32,
   "metadata": {
    "collapsed": false
   },
   "outputs": [
    {
     "data": {
      "image/png": "[encoded data removed]",
      "text/plain": [
       "<matplotlib.figure.Figure at 0x2a6b78a76d8>"
      ]
     },
     "metadata": {},
     "output_type": "display_data"
    }
   ],
   "source": [
    "histogram(param0_obs)"
   ]
  },
  {
   "cell_type": "markdown",
   "metadata": {},
   "source": [
    "So while it's true that the range of this first state value has a possible range from -4.8 to +4.8, it's clear that we need more resolution close to zero, and less resolution out further from zero.  Let's use a sigmoid or a hyperbolic tangent to cram more resolution near zero, and less resolution towards the edges.\n",
    "\n",
    "## The Beautiful Sigmoid\n",
    "The *sigmoid* function appears all the time in data science, ai, and statistics, and is defined like this:\n",
    "\n",
    "$$ f(x) =  \\frac{\\mathrm{1} }{\\mathrm{1} + e^{-x} }  $$ \n",
    "\n",
    "Let's do these things briefly:\n",
    " * Define sigmoid in python\n",
    " * Graph it\n",
    " * Look at its characteristics\n",
    " * Look at why sigmoid is so useful\n",
    "\n",
    "### Sigmoid in Numpy"
   ]
  },
  {
   "cell_type": "code",
   "execution_count": 15,
   "metadata": {
    "collapsed": true
   },
   "outputs": [],
   "source": [
    "def sigmoid(x):\n",
    "    return 1 / (1 + np.exp(-x))"
   ]
  },
  {
   "cell_type": "code",
   "execution_count": 57,
   "metadata": {
    "collapsed": false
   },
   "outputs": [
    {
     "data": {
      "text/plain": [
       "(0.31002551887238755, 0.5, 1.0)"
      ]
     },
     "execution_count": 57,
     "metadata": {},
     "output_type": "execute_result"
    }
   ],
   "source": [
    "sigmoid(-0.8), sigmoid(0), sigmoid(42)"
   ]
  },
  {
   "cell_type": "code",
   "execution_count": 58,
   "metadata": {
    "collapsed": true
   },
   "outputs": [],
   "source": [
    "def plot_fn(f, start, end, point_count = 100):\n",
    "    x = np.linspace(start, end, point_count)\n",
    "    y = f(x)\n",
    "    plt.plot(x, y)\n",
    "    plt.show()"
   ]
  },
  {
   "cell_type": "code",
   "execution_count": 59,
   "metadata": {
    "collapsed": false
   },
   "outputs": [
    {
     "data": {
      "image/png": "[encoded data removed]",
      "text/plain": [
       "<Figure size 432x288 with 1 Axes>"
      ]
     },
     "metadata": {
      "needs_background": "light"
     },
     "output_type": "display_data"
    }
   ],
   "source": [
    "plot_fn(sigmoid, -5, 5)"
   ]
  },
  {
   "cell_type": "markdown",
   "metadata": {},
   "source": [
    "### Sigmoid's characteristics\n",
    "* Its output ranges from 0.0 to 1.0\n",
    "* At zero it is exactly 0.5\n",
    "* Most of its variation happens near zero"
   ]
  },
  {
   "cell_type": "code",
   "execution_count": 61,
   "metadata": {
    "collapsed": false
   },
   "outputs": [
    {
     "data": {
      "image/png": "[encoded data removed]",
      "text/plain": [
       "<Figure size 432x288 with 1 Axes>"
      ]
     },
     "metadata": {
      "needs_background": "light"
     },
     "output_type": "display_data"
    }
   ],
   "source": [
    "plot_fn(sigmoid, -20, 20)"
   ]
  },
  {
   "cell_type": "markdown",
   "metadata": {},
   "source": [
    "### Intuition about Sigmoid\n",
    "$$ f(x) =  \\frac{\\mathrm{1} }{\\mathrm{1} + e^{-x} }  $$ \n",
    "\n",
    "* When *x* is a very large **negative** number, the **denominator** becomes a very large number approaching infinity\n",
    "* When *x* is a very large **positive** number, the value added to one in the denominator becomes vanishingly small, so the overall value approaches 1 in the limit\n",
    "* When *x* is zero, the value is exactly 1/2.\n",
    "* You can think of a sigmoid as being the accumulation of a gaussian distribution"
   ]
  },
  {
   "cell_type": "markdown",
   "metadata": {},
   "source": [
    "### Usefulness of Sigmoid\n",
    "There are many kinds of data where there is a big range of possible values, but in reality most of the variation comes around a single area.  For example, say you're analyzing all your financial transactions.  On average when you spend money the amount spent is under $100 (buying gas, buying food, etc.).  But occasionally you make a car payment or buy a house, and the amount is very large.\n",
    "\n",
    "If you wanted to do analysis on this data, running the purchase amount through a sigmoid is probably a good idea, because it gives you more resolution around the midpoint, and less resolution out on the ends.\n"
   ]
  },
  {
   "cell_type": "markdown",
   "metadata": {},
   "source": [
    "### Sigmoid for state generalization\n",
    "\n",
    "Let's run our states we got earlier through the sigmoid function."
   ]
  },
  {
   "cell_type": "code",
   "execution_count": 34,
   "metadata": {
    "collapsed": false
   },
   "outputs": [
    {
     "data": {
      "text/plain": [
       "array([ 0.01616606,  0.01674525,  0.01343655,  0.01404355,  0.01076119,\n",
       "        0.00358976, -0.00747228, -0.0224282 , -0.04128264, -0.05623635,\n",
       "       -0.07510113, -0.09007811, -0.10117622, -0.11620196, -0.13515719,\n",
       "       -0.15025037])"
      ]
     },
     "execution_count": 34,
     "metadata": {},
     "output_type": "execute_result"
    }
   ],
   "source": [
    "param0_obs = np.array([step[0][0] for step in episode.steps])\n",
    "param0_obs"
   ]
  },
  {
   "cell_type": "code",
   "execution_count": 35,
   "metadata": {
    "collapsed": false
   },
   "outputs": [
    {
     "data": {
      "text/plain": [
       "array([ 0.49541073,  0.49558965,  0.49479635,  0.49498155,  0.49614492,\n",
       "        0.4963356 ,  0.49750491,  0.49965294,  0.50278001,  0.50688639,\n",
       "        0.51197179,  0.51803472])"
      ]
     },
     "execution_count": 35,
     "metadata": {},
     "output_type": "execute_result"
    }
   ],
   "source": [
    "sigmoid(p)"
   ]
  },
  {
   "cell_type": "markdown",
   "metadata": {},
   "source": [
    "All the values are near 0.5 as we'd expect. Now all of our values are going to range from 0 to 1.  Let's divide the space into 20 buckets and see how this looks."
   ]
  },
  {
   "cell_type": "code",
   "execution_count": 36,
   "metadata": {
    "collapsed": false
   },
   "outputs": [
    {
     "data": {
      "image/png": "[encoded data removed]",
      "text/plain": [
       "<matplotlib.figure.Figure at 0x2a6b7a9ee80>"
      ]
     },
     "metadata": {},
     "output_type": "display_data"
    }
   ],
   "source": [
    "histogram(sigmoid(p), bins=20, title=\"Sigmoid State[0]\")"
   ]
  },
  {
   "cell_type": "markdown",
   "metadata": {},
   "source": [
    "We have 6 states bucketed together when we did our naive method of taking the values from -4.8 to 4.8 and cutting them into 20 chunks.  But when we can it through a sigmoid, we got 4 states bucketed together, and a slightly larger group just to the right of that.  This looks like it might be a useful generalization."
   ]
  },
  {
   "cell_type": "code",
   "execution_count": null,
   "metadata": {
    "collapsed": true
   },
   "outputs": [],
   "source": []
  }
 ],
 "metadata": {
  "anaconda-cloud": {},
  "kernelspec": {
   "display_name": "Python [default]",
   "language": "python",
   "name": "python3"
  },
  "language_info": {
   "codemirror_mode": {
    "name": "ipython",
    "version": 3
   },
   "file_extension": ".py",
   "mimetype": "text/x-python",
   "name": "python",
   "nbconvert_exporter": "python",
   "pygments_lexer": "ipython3",
   "version": "3.5.2"
  }
 },
 "nbformat": 4,
 "nbformat_minor": 2
}
